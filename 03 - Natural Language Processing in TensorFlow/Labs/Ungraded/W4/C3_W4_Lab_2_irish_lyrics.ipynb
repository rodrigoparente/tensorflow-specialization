{
 "cells": [
  {
   "cell_type": "markdown",
   "metadata": {
    "id": "SqIxQYm8h06Z"
   },
   "source": [
    "# Ungraded Lab: Generating Text from Irish Lyrics\n",
    "\n",
    "In the previous lab, you trained a model on just a single song. You might have found that the output text can quickly become gibberish or repetitive. Even if you tweak the parameters, the model will still be limited by its vocabulary of only a few hundred words. The model will be more flexible if you train it on a much larger corpus and that's what you'll be doing in this lab. You will use lyrics from more Irish songs then see how the generated text looks like. You will also see how this impacts the process from data preparation to model training. Let's get started!"
   ]
  },
  {
   "cell_type": "markdown",
   "metadata": {
    "id": "wb1mfOvch4Sv"
   },
   "source": [
    "## Imports"
   ]
  },
  {
   "cell_type": "code",
   "execution_count": 1,
   "metadata": {
    "id": "BOwsuGQQY9OL"
   },
   "outputs": [
    {
     "name": "stderr",
     "output_type": "stream",
     "text": [
      "2024-10-09 14:13:14.822844: I tensorflow/core/util/port.cc:153] oneDNN custom operations are on. You may see slightly different numerical results due to floating-point round-off errors from different computation orders. To turn them off, set the environment variable `TF_ENABLE_ONEDNN_OPTS=0`.\n",
      "2024-10-09 14:13:15.044595: E external/local_xla/xla/stream_executor/cuda/cuda_fft.cc:485] Unable to register cuFFT factory: Attempting to register factory for plugin cuFFT when one has already been registered\n",
      "2024-10-09 14:13:15.132288: E external/local_xla/xla/stream_executor/cuda/cuda_dnn.cc:8454] Unable to register cuDNN factory: Attempting to register factory for plugin cuDNN when one has already been registered\n",
      "2024-10-09 14:13:15.156325: E external/local_xla/xla/stream_executor/cuda/cuda_blas.cc:1452] Unable to register cuBLAS factory: Attempting to register factory for plugin cuBLAS when one has already been registered\n",
      "2024-10-09 14:13:15.309418: I tensorflow/core/platform/cpu_feature_guard.cc:210] This TensorFlow binary is optimized to use available CPU instructions in performance-critical operations.\n",
      "To enable the following instructions: AVX2 AVX512F AVX512_VNNI FMA, in other operations, rebuild TensorFlow with the appropriate compiler flags.\n",
      "2024-10-09 14:13:16.585807: W tensorflow/compiler/tf2tensorrt/utils/py_utils.cc:38] TF-TRT Warning: Could not find TensorRT\n"
     ]
    }
   ],
   "source": [
    "import tensorflow as tf\n",
    "import numpy as np\n",
    "import matplotlib.pyplot as plt"
   ]
  },
  {
   "cell_type": "markdown",
   "metadata": {
    "id": "jmBFI788pOXx"
   },
   "source": [
    "## Building the Word Vocabulary\n",
    "\n",
    "You will first download the lyrics dataset. These will be from a compilation of traditional Irish songs and you can see them [here](https://github.com/https-deeplearning-ai/tensorflow-1-public/blob/main/C3/W4/misc/Laurences_generated_poetry.txt)."
   ]
  },
  {
   "cell_type": "code",
   "execution_count": 2,
   "metadata": {
    "id": "pylt5qZYsWPh"
   },
   "outputs": [
    {
     "name": "stdout",
     "output_type": "stream",
     "text": [
      "--2024-10-09 14:13:18--  https://storage.googleapis.com/tensorflow-1-public/course3/irish-lyrics-eof.txt\n",
      "Resolving storage.googleapis.com (storage.googleapis.com)... 142.251.129.251, 142.251.132.27, 172.217.29.123, ...\n",
      "Connecting to storage.googleapis.com (storage.googleapis.com)|142.251.129.251|:443... connected.\n",
      "HTTP request sent, awaiting response... 200 OK\n",
      "Length: 68970 (67K) [text/plain]\n",
      "Saving to: ‘data/irish-lyrics-eof.txt’\n",
      "\n",
      "irish-lyrics-eof.tx 100%[===================>]  67.35K   251KB/s    in 0.3s    \n",
      "\n",
      "2024-10-09 14:13:20 (251 KB/s) - ‘data/irish-lyrics-eof.txt’ saved [68970/68970]\n",
      "\n"
     ]
    }
   ],
   "source": [
    "# The dataset has already beed downloaded for you, so no need to run the following line of code.\n",
    "!wget -P data/ -nc https://storage.googleapis.com/tensorflow-1-public/course3/irish-lyrics-eof.txt"
   ]
  },
  {
   "cell_type": "markdown",
   "metadata": {
    "id": "-v6JYQGNPXCW"
   },
   "source": [
    "Next, you will lowercase and split the plain text into a list of sentences:"
   ]
  },
  {
   "cell_type": "code",
   "execution_count": 3,
   "metadata": {
    "id": "LKOO7DFCPX3L",
    "scrolled": true
   },
   "outputs": [
    {
     "name": "stdout",
     "output_type": "stream",
     "text": [
      "['come all ye maidens young and fair', 'and you that are blooming in your prime', 'always beware and keep your garden fair', 'let no man steal away your thyme', 'for thyme it is a precious thing', 'and thyme brings all things to my mind', 'nlyme with all its flavours, along with all its joys', 'thyme, brings all things to my mind', 'once i and a bunch of thyme', 'i thought it never would decay', 'then came a lusty sailor', 'who chanced to pass my way', 'and stole my bunch of thyme away', 'the sailor gave to me a rose', 'a rose that never would decay', 'he gave it to me to keep me reminded', 'of when he stole my thyme away', 'sleep, my child, and peace attend thee', 'all through the night', 'guardian angels god will send thee', 'soft the drowsy hours are creeping', 'hill and dale in slumber sleeping', 'i my loving vigil keeping', 'while the moon her watch is keeping', 'while the weary world is sleeping', 'oer thy spirit gently stealing', 'visions of delight revealing', 'breathes a pure and holy feeling', 'though i roam a minstrel lonely', 'my true harp shall praise sing only', 'loves young dream, alas, is over', 'yet my strains of love shall hover', 'near the presence of my lover', 'hark, a solemn bell is ringing', 'clear through the night', 'thou, my love, art heavenward winging', 'home through the night', 'earthly dust from off thee shaken', 'soul immortal shalt thou awaken', 'with thy last dim journey taken', 'oh please neer forget me though waves now lie oer me', 'i was once young and pretty and my spirit ran free', 'but destiny tore me from country and loved ones', 'and from the new land i was never to see.', 'a poor emigrants daughter too frightened to know', 'i was leaving forever the land of my soul', 'amid struggle and fear my parents did pray', 'to place courage to leave oer the longing to stay.', 'they spoke of a new land far away cross the sea', 'and of peace and good fortune for my brothers and me', 'so we parted from townland with much weeping and pain', 'kissed the loved ones and the friends we would neer see again.', 'the vessel was crowded with disquieted folk', 'the escape from past hardship sustaining their hope', 'but as the last glimpse of ireland faded into the mist', 'each one fought back tears and felt strangely alone.', 'the seas roared in anger, making desperate our plight', 'and a fever came oer me that worsened next night', 'then delirium possessed me and clouded my mind', 'and i for a moment saw that land left behind.', 'i could hear in the distance my dear mothers wailing', 'and the prayers of three brothers that id see no more', 'and i felt fathers tears as he begged for forgiveness', 'for seeking a new life on the still distant shore.', 'over in killarney', 'many years ago,', 'me mither sang a song to me', 'in tones so sweet and low.', 'just a simple little ditty,', 'in her good ould irish way,', 'and ld give the world if she could sing', 'that song to me this day.', 'too-ra-loo-ra-loo-ral, too-ra-loo-ra-li,', 'too-ra-loo-ra-loo-ral, hush now, dont you cry!', 'too-ra-loo-ra-loo-ral, thats an irish lullaby.', 'oft in dreams i wander', 'to that cot again,', 'i feel her arms a-huggin me', 'as when she held me then.', 'and i hear her voice a -hummin', 'to me as in days of yore,', 'when she used to rock me fast asleep', 'outside the cabin door.', 'and who are you, me pretty fair maid', 'and who are you, me honey?', 'she answered me quite modestly:', 'i am me mothers darling.', 'with me too-ry-ay', 'fol-de-diddle-day', 'di-re fol-de-diddle', 'dai-rie oh.', 'and will you come to me mothers house,', 'when the sun is shining clearly', 'ill open the door and ill let you in', 'and divil o one would hear us.', 'so i went to her house in the middle of the night', 'when the moon was shining clearly', 'shc opened the door and she let me in', 'and divil the one did hear us.', 'she took me horse by the bridle and the bit', 'and she led him to the stable', 'saying theres plenty of oats for a soldiers horse,', 'to eat it if hes able.', 'then she took me by the lily-white hand', 'and she led me to the table', 'saying: theres plenty of wine for a soldier boy,', 'to drink it if youre able.', 'then i got up and made the bed', 'and i made it nice and aisy', 'then i got up and laid her down', 'saying: lassie, are you able?', 'and there we lay till the break of day', 'and divil a one did hear us', 'then i arose and put on me clothes', 'saying: lassie, i must leave you.', 'and when will you return again', 'and when will we get married', 'when broken shells make christmas bells', 'we might well get married', 'in 1803 we sailed out to sea', 'out from the sweet town of derry', 'for australia bound if we didnt all drown', 'and the marks of our fetters we carried.', 'in the rusty iron chains we sighed for our wains', 'as our good wives we left in sorrow.', 'as the mainsails unfurled our curses we hurled', 'on the english and thoughts of tomorrow.', 'oh oh oh oh i wish i was back home in derry.', 'i cursed them to hell as our bow fought the swell.', 'our ship danced like a moth in the firelights.', 'white horses rode high as the devil passed by', 'taking souls to hades by twilight.', 'five weeks out to sea we were now forty-three', 'our comrades we buried each morning.', 'in our own slime we were lost in a time.', 'endless night without dawning.', 'van diemans land is a hell for a man', 'to live out his life in slavery.', 'when the climate is raw and the gun makes the law.', 'neither wind nor rain cares for bravery.', 'twenty years have gone by and ive ended me bond', 'and comrades ghosts are behind me.', 'a rebel i came and iii die the same.', 'on the cold winds of night you will find me', 'on the banks of the roses, my love and i sat down', 'and i took out my violin to play my love a tune', 'in the middle of the tune, o she sighed and she said', 'o johnny, lovely johnny, would you leave me', 'o when i was a young man, i heard my father say', 'that hed rather see me dead and buried in the clay', 'sooner than be married to any runaway', 'by the lovely sweet banks of the roses', 'o then i am no runaway and soon ill let them know', 'i can take a good glass or leave it alone', 'and the man that doesnt like me, he can keep', 'his daughter home', 'and young johnny will go roving with another', 'and if ever i get married, twill be in the month of may', 'when the leaves they are green and the meadows', 'they are gay', 'and i and my true love can sit and sport and play', 'on the lovely sweet banks of the roses', 'but black is the colour of my true loves hair.', 'his face is like some rosy fair,', 'the prettiest face and the neatest hands,', 'i love the ground whereon he stands.', 'i love my love and well he knows', 'i love the ground whereon he goes', 'if you no more on earth i see,', 'i cant serve you as you have me.', 'the winters passed and the leaves are green', 'the time is passed that we have seen,', 'but still i hope the time will come', 'when you and i shall be as one.', 'i go to the clyde for to mourn and weep,', 'but satisfied i never could sleep,', 'ill write to you a few short lines', 'ill suffer death ten thousand times.', 'so fare you well, my own true love', 'the time has passed, but i wish you well.', 'when you and i will be as one.', 'i love the ground whereon he goes,', 'the prettiest face, the neatest hands', 'her eyes they shone like the diamonds', 'youd think she was queen of the land', 'and her hair hung over her shoulder', 'tied up with a black velvet band.', 'in a neat little town they call belfast', 'apprenticed to trade i was bound', 'and many an hours sweet happiness', 'i spent in that neat little town.', 'till bad misfortune came oer me', 'that caused me to stray from the land', 'far away from my friends and relations', 'to follow the black velvet band.', 'well, i was out strolling one evening', 'not meaning to go very far', 'when i met with a pretty young damsel', 'who was selling her trade in the bar.', 'when i watched, she took from a customer', 'and slipped it right into my hand', 'then the watch came and put me in prison', 'bad luck to the black velvet band.', 'next morning before judge and jury', 'for a trial i had to appear', 'and the judge, he said, you young fellows...', 'the case against you is quite clear', 'and seven long years is your sentence', 'youre going to van diemans land', 'far away from your friends and relations', 'so come all you jolly young fellows', 'id have you take warning by me', 'whenever youre out on the liquor, me lads,', 'beware of the pretty colleen.', 'shell fill you with whiskey and porter', 'until youre not able to stand', 'and the very next thing that youll know, me lads,', 'youre landed in van diemans land.', 'heres a health to you, bonnie kellswater', 'for its there youll find the pleasures of life', 'and its there youll find a fishing and farming', 'and a bonnie wee girl for your wife', 'on the hills and the glens and the valleys', 'grows the softest of women so fine', 'and the flowers are all dripping with honey', 'there lives martha, a true love of mine', 'bonnie martha, youre the first girl i courted', 'youre the one put my heart in a snare', 'and if ever i should lose you to another', 'i will leave my kellswater so fair', 'for this one and that one may court her', 'but no other can take her from me', 'for i love her as i love my kellswater', 'like the primrose is loved by the bee', 'oh bridgit omalley, you left my heart shaken', 'with a hopeless desolation, id have you to know', 'its the wonders of admiration your quiet face has taken', 'and your beauty will haunt me wherever i go.', 'the white moon above the pale sands, the pale stars above the thorn tree', 'are cold beside my darling, but no purer than she', 'i gaze upon the cold moon till the stars drown in the warm sea', 'and the bright eyes of my darling are never on me.', 'my sunday it is weary, my sunday it is grey now', 'my heart is a cold thing, my heart is a stone', 'all joy is dead within me, my life has gone away now', 'for another has taken my love for his own.', 'the day it is approaching when we were to be married', 'and its rather i would die than live only to grieve', 'oh meet me, my darling, eer the sun sets oer the barley', 'and ill meet you there on the road to drumslieve.', 'oh bridgit omalley, youve left my heart shaken', 'i wish i was in carrigfergus', 'only for nights in ballygrant', 'i would swim over the deepest ocean', 'for my love to find', 'but the sea is wide and i cannot cross over', 'and neither have i the wings to fly', 'i wish i could meet a handsome boatsman', 'to ferry me over, to my love and die.', 'my childhood days bring back sad reflections', 'of happy times i spent so long ago', 'my boyhood friends and my own relations', 'have all passed on now like melting snow.', 'but ill spend my days in endless roaming', 'soft is the grass, my bed is free.', 'ah, to be back now in carrigfergus', 'on that long road down to the sea.', 'but in kilkenny, it is reported', 'on marble stones there as black as ink', 'with gold and silver i would support her', 'but ill sing no more till i get a drink.', 'for im drunk today, and im seldom sober', 'a handsome rover from town to town', 'ah, but im sick now, my days are numbered', 'you may travel far far from your own native land', 'far away oer the mountains, far away oer the foam', 'but of all the fine places that ive ever been', 'sure theres none can compare with the cliffs of doneen.', 'take a view oer the mountains, fine sights youll see there', 'youll see the high rocky mountains oer the west coast of clare', 'oh the town of kilkee and kilrush can be seen', 'from the high rocky slopes round the cliffs of doneen.', 'its a nice place to be on a fine summers day', 'watching all the wild flowers that neer do decay', 'oh the hares and lofty pheasants are plain to be seen', 'making homes for their young round the cliffs of doneen.', 'fare thee well to doneen, fare thee well for a while', 'and to all the kind people im leaving behind', 'to the streams and the meadows where late i have been', 'and the high rocky slopes round the cliffs of doneen.', 'in dublins fair city, where the girls are so pretty', 'i first set my eyes on sweet molly malone', 'as she wheeled her wheel-barrow', 'through streets broad and narrow', 'crying cockles and mussels, alive, alive-o!', 'alive, alive-o! alive, alive-o!', 'she was a fish-monger, but sure twas no wonder', 'for so were her father and mother before', 'and they each wheeled their barrow', 'she died of a fever, and no one could save her', 'and that was the end of sweet molly malone', 'but her ghost wheels her barrow', 'the garden of eden has vanished, they say', 'but i know the lie of it still;', 'just turn to the left at the bridge of finea', 'and stop when halfway to cootehill.', 'tis there i will find it,', 'i know sure enough', 'when fortune has come to me call,', 'oh the grass it is green around ballyjamesduff', 'and the blue sky is over it all.', 'and tones that are tender and tones that are gruff', 'are whispering over the sea,', 'come back, paddy reilly to ballyjamesduff', 'come home, paddy reilly, to me.', 'my mother once told me that when i was born', 'the day that i first saw the light,', 'i looked down the street on that very first morn', 'and gave a great crow of delight.', 'now most newborn babies appear in a huff,', 'and start with a sorrowful squall,', 'but i knew i was born in ballyjamesduff', 'and thats why i smiled on them all.', 'the babys a man, now hes toil-worn and tough', 'still, whispers come over the sea,', 'the night that we danced by the light of the moon,', 'wid phil to the fore wid his flute,', 'when phil threw his lip over come again soon,', 'hes dance the foot out o yer boot!', 'the day that i took long magee by the scruff', 'for slanderin rosie kilrain,', 'then, marchin him straight out of ballyjamesduff,', 'assisted him into a drain.', 'oh, sweet are the dreams, as the dudeen i puff,', 'of whisperings over the sea,', 'ive loved the young women of every land,', 'that always came easy to me;', 'just barrin the belles of the black-a-moor brand', 'and the chocolate shapes of feegee.', 'but that sort of love is a moonshiny stuff,', 'and never will addle me brain,', 'for the bells will be ringin in ballyjamesduff', 'for me and me rosie kilrain!', 'and through all their glamour, their gas and their guff', 'a whisper comes over the sea,', 'ive struck oil at last!', 'ive struck work, and i vow', 'ive struck some remarkable clothes,', 'ive struck a policeman for sayin that now,', 'id go back to my beautiful rose.', 'the belles they may blarney,', 'the boys they may bluff', 'but this i will always maintain,', 'no place in the world like ballyjamesduff', 'no guril (sic) like rosie kilrain.', 'ive paid for my passage, the sea may be rough', 'but borne on each breeze there will be,', 'will you come to the bower oer the free boundless ocean', 'where the stupendous waves roll in thundering motion,', 'where the mermaids are seen and the fierce tempest gathers,', 'to loved erin the green, the dear land of our fathers.', 'will you come, will you, will you, will you come to the bower?', 'will you come to the land of oneill and odonnell', 'of lord lucan of old and immortal oconnell.', 'where brian drove the danes and saint patrick the vermin', 'and whose valleys remain still most beautiful and charming?', 'you can visit benburb and the storied blackwater,', 'where owen roe met munroe and his chieftains did slaughter', 'where the lambs skip and play on the mossy all over,', 'from those bright golden views to enchanting rostrevor.', 'you can see dublin city, and the fine groves of blarney', 'the bann, boyne, and liffey and the lakes of killarney,', 'you may ride on the tide on the broad majestic shannon', 'you may sail round loch neagh and see storied dungannon.', 'you can visit new ross, gallant wexford, and gorey,', 'where the green was last seen by proud saxon and tory,', 'where the soil is sanctified by the blood of each true man', 'where they died satisfied that their enemies they would not run from.', 'will you come and awake our lost land from its slumber', 'and her fetters well break, links that long are encumbered.', 'and the air will resound with hosannahs to greet you', 'on the shore will be found gallant irishmen to greet you.', 'oh danny boy, the pipes, the pipes are calling', 'from glen to glen, and down the mountain side', 'the summers gone, and all the flowers are dying', 'tis you, tis you must go and i must bide.', 'but come ye back when summers in the meadow', 'or when the valleys hushed and white with snow', 'tis ill be here in sunshine or in shadow', 'oh danny boy, oh danny boy, i love you so.', 'and if you come, when all the flowers are dying', 'and i am dead, as dead i well may be', 'youll come and find the place where i am lying', 'and kneel and say an ave there for me.', 'and i shall hear, tho soft you tread above me', 'and all my dreams will warm and sweeter be', 'if youll not fail to tell me that you love me', 'ill simply sleep in peace until you come to me.', 'i found my love by the gasworks croft', 'dreamed a dream by the old canal', 'kissed my girl by the factory wall', 'dirty old town, dirty old town.', 'clouds are drifting across the moon', 'cats are prowling on their beat', 'springs a girl in the street at night', 'i heard a siren from the docks', 'saw a train set the night on fire', 'smelled the spring in the smokey wind', 'im going to make a good sharp axe', 'shining steel tempered in the fire', 'well chop you down like an old dead tree', 't was down by the salley gardens, my love and i did meet.', 'she crossed the salley gardens with little snow-white feet.', 'she bid me take love easy, as the leaves grow on the tree,', 'but i was young and foolish, and with her did not agree.', 'in a field down by the river, my love and i did stand', 'and on my leaning shoulder, she laid her snow-white hand.', 'she bid me take life easy , as the grass grows on the weirs', 'but i was young and foolish, and now am full of tears.', 'down by the salley gardens, my love and i did meet.', 'when, like the dawning day', 'eileen aroon', 'love sends his early ray', 'eileen aroon.', 'what makes his dawning glow', 'changeless through joy and woe', 'only the constant know', 'were she no longer true', 'what would her lover do', 'fly with a broken chain', 'far oer the bounding main', 'never to love again', 'youth must in time decay', 'beauty must fade away', 'castles are sacked in war', 'chieftains are scattered far', 'truth is a fixed star', 'believe me, if all those endearing young charms', 'which i gaze on so fondly today', 'were to change by tomorrow and fleet in my arms', 'like fairy gifts fading away.', 'thou wouldst still be adored as this moment thou art', 'let thy loveliness fade as it will', 'and around the dear ruin each wish of my heart', 'would entwine itself verdantly still.', 'it is not while beauty and youth are thine own', 'and thy cheeks unprofaned by a tear', 'that the fervor and faith of a soul can be known', 'to which time will but make thee more dear.', 'no, the heart that has truly loved never forgets', 'but as truly loves on to the close', 'as the sunflower turns to her god when he sets', 'the same look which she turned when she rose.', 'ill tell you a story of a row in the town,', 'when the green flag went up and the crown rag came down,', 'twas the neatest and sweetest thing ever you saw,', 'and they played the best games played in erin go bragh.', 'one of our comrades was down at rings end,', 'for the honor of ireland to hold and defend,', 'he had no veteran soldiers but volunteers raw,', 'playing sweet mauser music for erin go bragh.', 'now heres to pat pearse and our comrades who died', 'tom clark, macdonagh, macdiarmada, mcbryde,', 'and heres to james connolly who gave one hurrah,', 'and placed the machine guns for erin go bragh.', 'one brave english captain was ranting that day,', 'saying, give me one hour and ill blow you away,', 'but a big mauser bullet got stuck in his craw,', 'and he died of lead poisoning in erin go bragh.', 'old ceannt and his comrades like lions at bay,', 'from the south dublin union poured death and dismay,', 'and what was their horror when the englishmen saw', 'all the dead khaki soldiers in erin go bragh.', 'now heres to old dublin, and heres her renown,', 'in the long generation her fame will go down,', 'and our children will tell how their forefathers saw,', 'the red blaze of freedom in erin go bragh.', 'of priests we can offer a charmin variety,', 'far renownd for learnin and piety;', 'still, id advance ye widout impropriety,', 'father oflynn as the flowr of them all.', 'cho: heres a health to you, father oflynn,', 'slainte and slainte and slainte agin;', 'powrfulest preacher, and tenderest teacher,', 'and kindliest creature in ould donegal.', 'dont talk of your provost and fellows of trinity,', 'famous forever at greek and latinity,', 'dad and the divils and all at divinity', 'father oflynn d make hares of them all!', 'come, i venture to give ye my word,', 'never the likes of his logic was heard,', 'down from mythology into thayology,', 'truth! and conchology if hed the call.', 'och father oflynn, youve a wonderful way wid you,', 'all ould sinners are wishful to pray wid you,', 'all the young childer are wild for to play wid you,', 'youve such a way wid you, father avick.', 'still for all youve so gentle a soul,', 'gad, youve your flock in the grandest control,', 'checking the crazy ones, coaxin onaisy ones,', 'lifting the lazy ones on wid the stick.', 'and tho quite avoidin all foolish frivolity;', 'still at all seasons of innocent jollity,', 'where was the playboy could claim an equality,', 'at comicality, father, wid you?', 'once the bishop looked grave at your jest,', 'till this remark set him off wid the rest:', 'is it lave gaiety all to the laity?', 'cannot the clergy be irishmen, too?', 'what did i have, said the fine old woman', 'what did i have, this proud old woman did say', 'i had four green fields, each one was a jewel', 'but strangers came and tried to take them from me', 'i had fine strong sons, who fought to save my jewels', 'they fought and they died, and that was my grief said she', 'long time ago, said the fine old woman', 'long time ago, this proud old woman did say', 'there was war and death, plundering and pillage', 'my children starved, by mountain, valley and sea', 'and their wailing cries, they shook the very heavens', 'my four green fields ran red with their blood, said she', 'what have i now, said the fine old woman', 'what have i now, this proud old woman did say', 'i have four green fields, one of thems in bondage', 'in strangers hands, that tried to take it from me', 'but my sons had sons, as brave as were their fathers', 'my fourth green field will bloom once again said she', 'just give me your hand,', 'tabhair dom do lámh.', 'just give me your hand', 'and ill walk with you,', 'through the streets of our land,', 'through the mountains so grand.', 'if you give me your hand.', 'and come along with me.', 'will you give me your hand,', 'and the world it can see,', 'that we can be free,', 'in peace and harmony?', 'from the north to the south.', 'from the east to the west.', 'every mountain, every valley,', 'every bush and birds nest!', 'for the world it is ours.', 'all the sea and the land,', 'to destroy or command,', 'in a gesture of peace.', 'will you give me your hand', 'and all troubles will cease,', 'for the strong and the weak,', 'for the rich and the poor?', 'all peoples and creeds,', 'lets meet their needs.', 'with a passion, we can fashion,', 'a new world of love!', 'by day and night,', 'through all struggle and strife,', 'and beside you, to guide you,', 'forever, my love.', 'for loves not for one,', 'but for both of us to share.', 'for our country so fair,', 'for our world and whats there.', 'green grow the lilacs, all sparkling with dew', 'im lonely, my darling, since parting with you;', 'but by our next meeting iull hope to prove true', 'and change the green lilacs to the red, white and blue.', 'i once had a sweetheart, but now i have none', 'shes gone and shes left me, i care not for one', 'since shes gone and left me, contented ill be,', 'for she loves another one better than me.', 'i passed my loves window, both early and late', 'the look that she gave me, it makes my heart ache;', 'oh, the look that she gave me was painful to see,', 'i wrote my love letters in rosy red lines,', 'she sent me an answer all twisted and twined;', 'saying,keep your love letters and i will keep mine', 'just you write to your love and ill write to mine.', 'oh haste to the wedding, the pipes, the pipes are calling', 'oh haste to the wedding, oh haste to the wedding, i love you so.', 'ill take you home again, kathleen', 'across the ocean wild and wide', 'to where your heart has ever been', 'since you were first my bonnie bride.', 'the roses all have left your cheek.', 'ive watched them fade away and die', 'your voice is sad when eer you speak', 'and tears bedim your loving eyes.', 'oh! i will take you back, kathleen', 'to where your heart will feel no pain', 'and when the fields are fresh and green', 'ill take you to your home again!', 'i know you love me, kathleen, dear', 'your heart was ever fond and true.', 'i always feel when you are near', 'that life holds nothing, dear, but you.', 'the smiles that once you gave to me', 'i scarcely ever see them now', 'though many, many times i see', 'a darkning shadow on your brow.', 'to that dear home beyond the sea', 'my kathleen shall again return.', 'and when thy old friends welcome thee', 'thy loving heart will cease to yearn.', 'where laughs the little silver stream', 'beside your mothers humble cot', 'and brightest rays of sunshine gleam', 'there all your grief will be forgot.', 'ill tell my ma when i go home', 'the boys wont leave the girls alone', 'they pulled my hair, they stole my comb', 'but thats all right till i go home.', 'she is handsome, she is pretty', 'she is the bell of belfast city', 'she is counting one, two, three', 'please wont you tell me who is she.', 'albert mooney says he loves her', 'all the boys are fighting for her', 'they knock at the door and they ring at the bell', 'sayin oh my true love, are you well?', 'out she comes as white as snow', 'rings on her fingers and bells on her toes', 'old john murray says shell die', 'if she doesnt get the fellow with the roving eye.', 'let the wind and rain and the hail blow high', 'and the snow come tumblin from the sky', 'shes as nice as apple pie', 'shell get her own lad by and by.', 'when she gets a lad of her own', 'she wont tell her ma when she goes home', 'let them all come as they will', 'for its albert mooney she loves still.', 'while goin the road to sweet athy, ', 'hurroo, hurroo', 'while goin the road to sweet athy', 'a stick in me hand and a drop in me eye', 'a doleful damsel i heard cry,', 'johnny i hardly knew ye.', 'with your drums and guns and drums and guns', 'the enemy nearly slew ye', 'oh my darling dear, ye look so queer', 'where are your eyes that were so mild', 'when my heart you so beguiled', 'why did ye run from me and the child', 'oh johnny, i hardly knew ye.', 'where are your legs that used to run', 'when you went for to carry a gun', 'indeed your dancing days are done', 'im happy for to see ye home', 'all from the island of sulloon', 'so low in flesh, so high in bone', 'oh johnny i hardly knew ye.', 'ye havent an arm, ye havent a leg', 'yere an armless, boneless, chickenless egg', 'yell have to put with a bowl out to beg', 'theyre rolling out the guns again', 'but they never will take our sons again', 'no they never will take our sons again', 'johnny im swearing to ye.', 'as i was a-walkin round kilgary mountain', 'i met with captain pepper as his money he was countin', 'i rattled my pistols and i drew forth my saber', 'sayin, stand and deliver, for i am the bold deceiver.', 'musha rig um du rum da', 'whack fol the daddy o', 'theres whiskey in the jar.', 'the shinin golden coins did look so bright and jolly', 'i took em with me home and i gave em to my molly', 'she promised and she vowed that she never would deceive me', 'but the devils in the women and they never can be easy.', 'when i was awakened between six and seven', 'the guards were all around me in numbers odd and even', 'i flew to my pistols, but alas i was mistaken', 'for mollys drawn my pistols and a prisoner i was taken.', 'they put me into jail without judge or writin', 'for robbing colonel pepper on kilgary mountain', 'but they didnt take my fists so i knocked the sentry down', 'and bid a fond farewell to the jail in sligo town.', 'now some take delight in fishin and in bowlin', 'and others take delight in carriages a-rollin', 'but i take delight in the juice of the barley', 'and courtin pretty girls in the morning so early.', 'oer railroad ties and crossings', 'i made my weary way,', 'through swamps and elevations', 'my tired feet did stray', 'until i resolved at sunset', 'some higher ground to win.', 'twas there i met with a creole girl', 'by the lake of ponchartrain.', 'good evening, fair maiden,', 'my money does me no good.', 'if it want for the allegators', 'id stay out in the wood.', 'youre welcome, welcome, stranger.', 'at home it is quite plain', 'for we never turn a stranger', 'from the lake of ponchartrain.', 'she took me to her mothers home', 'and she treated me quite well;', 'her long black hair in ringlets', 'upon her shoulders fell.', 'i tried to paint her picture', 'but, alas, it was in vain', 'so handsome was that creole girl', 'i asked her if shed marry me', 'she said that neer could be;', 'she said she had a lover,', 'and he was on the sea,', 'she said she had a lover', 'it was true she would remain,', 'until he returned for the creole girl', 'adieu, adieu, fair maiden,', 'you neer shall see me more', 'and when you are thinking of the old times', 'and the cottage by the shore', 'and when i meet a sociable', 'with a glass of the foaming main', 'ill drink good health to the creole girl', 'n the town of athy one jeremy lanigan', 'battered away til he hadnt a pound.', 'his father died and made him a man again', 'left him a farm and ten acres of ground.', 'he gave a grand party for friends and relations', 'who didnt forget him when come to the wall,', 'and if youll but listen ill make your eyes glisten', 'of the rows and the ructions of lanigans ball.', 'myself to be sure got free invitation,', 'for all the nice girls and boys i might ask,', 'and just in a minute both friends and relations', 'were dancing round merry as bees round a cask.', 'judy odaly, that nice little milliner,', 'she tipped me a wink for to give her a call,', 'and i soon arrived with peggy mcgilligan', 'just in time for lanigans ball.', 'there were lashings of punch and wine for the ladies,', 'potatoes and cakes; there was bacon and tea,', 'there were the nolans, dolans, ogradys', 'courting the girls and dancing away.', 'songs they went round as plenty as water,', 'the harp that once sounded in taras old hall,', 'sweet nelly gray and the rat catchers daughter,', 'all singing together at lanigans ball.', 'they were doing all kinds of nonsensical polkas', 'all round the room in a whirligig.', 'julia and i, we banished their nonsense', 'and tipped them the twist of a reel and a jig.', '&och mavrone, how the girls got all mad at me', 'danced til youd think the ceiling would fall.', 'for i spent three weeks at brooks academy', 'learning new steps for lanigans ball.', 'three long weeks i spent up in dublin,', 'three long weeks to learn nothing at all,', 'she stepped out and i stepped in again,', 'i stepped out and she stepped in again,', 'boys were all merry and the girls they were hearty', 'and danced all around in couples and groups,', 'til an accident happened, young terrance mccarthy', 'put his right leg through miss finnertys hoops.', 'poor creature fainted and cried: meelia murther,', 'called for her brothers and gathered them all.', 'carmody swore that hed go no further', 'til he had satisfaction at lanigans ball.', 'in the midst of the row miss kerrigan fainted,', 'her cheeks at the same time as red as a rose.', 'some of the lads declared she was painted,', 'she took a small drop too much, i suppose.', 'her sweetheart, ned morgan, so powerful and able,', 'when he saw his fair colleen stretched out by the wall,', 'tore the left leg from under the table', 'and smashed all the chaneys at lanigans ball.', 'boys, oh boys, twas then there were runctions.', 'myself got a lick from big phelim mchugh.', 'i soon replied to his introduction', 'and kicked up a terrible hullabaloo.', 'old casey, the piper, was near being strangled.', 'they squeezed up his pipes, bellows, chanters and all.', 'the girls, in their ribbons, they got all entangled', 'and that put an end to lanigans ball.', 'step we gaily, on we go', 'heel for heel and toe for toe,', 'arm in arm and row on row', 'all for mairis wedding.', 'over hillways up and down', 'myrtle green and bracken brown,', 'past the sheilings through the town', 'all for sake of mairi.', 'red her cheeks as rowans are', 'bright her eyes as any star,', 'fairest o them all by far', 'is our darlin mairi.', 'plenty herring, plenty meal', 'plenty peat to fill her creel,', 'plenty bonny bairns as weel', 'thats the toast for mairi.', 'i have seen the lark soar high at morn', 'heard his song up in the blue', 'i have heard the blackbird pipe his note', 'the thrush and the linnet too', 'but theres none of them can sing so sweet', 'my singing bird as you.', 'if i could lure my singing bird', 'from his own cozy nest', 'if i could catch my singing bird', 'i would warm him on my breast', 'for theres none of them can sing so sweet', 'of all the money that eer i spent', 'ive spent it in good company', 'and all the harm that ever i did', 'alas it was to none but me', 'and all ive done for want of wit', 'to memory now i cant recall', 'so fill to me the parting glass', 'good night and joy be with you all', 'if i had money enough to spend', 'and leisure to sit awhile', 'there is a fair maid in the town', 'that sorely has my heart beguiled', 'her rosy cheeks and ruby lips', 'i own she has my heart enthralled', 'oh, all the comrades that eer i had', 'theyre sorry for my going away', 'and all the sweethearts that eer i had', 'theyd wish me one more day to stay', 'but since it falls unto my lot', 'that i should rise and you should not', 'ill gently rise and softly call', 'it was on a fine summers morning,', 'when the birds sweetly tuned on each bough;', 'i heard a fair maid sing most charming', 'as she sat a-milking her cow;', 'her voice, it was chanting melodious,', 'she left me scarce able to go;', 'my heart it is soothed in solace,', 'my cailín deas crúite na mbó.', 'with courtesy i did salute her,', 'good-morrow, most amiable maid,', 'im your captive slave for the future.', 'kind sir, do not banter, she said,', 'im not such a precious rare jewel,', 'that i should enamour you so;', 'i am but a plain country girl,', 'says cailín deas crúite na mbó.', 'the indies afford no such jewel,', 'so precious and transparently fair,', 'oh! do not to my flame add fuel,', 'but consent for to love me, my dear;', 'take pity and grant my desire,', 'and leave me no longer in woe;', 'oh! love me or else ill expire,', 'sweet cailín deas crúite na mbó.', 'or had i the wealth of great damer,', 'or all on the african shore,', 'or had i great devonshire treasure,', 'or had i ten thousand times more,', 'or had i the lamp of alladin,', 'or had i his genie also,', 'id rather live poor on a mountain,', 'with cailín deas crúite na mbó.', 'i beg youll withdraw and dont tease me;', 'i cannot consent unto thee.', 'i like to live single and airy,', 'till more of the world i do see.', 'new cares they would me embarrass,', 'besides, sir, my fortune is low,', 'until i get rich ill not marry,', 'an old maid is like an old almanack,', 'quite useless when once out of date;', 'if her ware is not sold in the morning', 'at noon it must fall to low rate.', 'the fragrance of may is soon over,', 'the rose loses its beauty, you know;', 'all bloom is consumed in october,', 'a young maid is like a ship sailing,', 'theres no knowing how long she may steer,', 'for with every blast shes in danger;', 'oh! consent, love, and banish all care.', 'for riches i care not a farthing,', 'your affection i want and no more;', 'in comfort id wish to enjoy you,', 'red is the rose that in yonder garden grows', 'fair is the lily of the valley', 'clear is the water that flows from the boyne', 'but my love is fairer than any.', 'come over the hills, my bonnie irish lass', 'come over the hills to your darling', 'you choose the rose, love, and ill make the vow', 'and ill be your true love forever.', 'twas down by killarneys green woods that we strayed', 'when the moon and the stars they were shining', 'the moon shone its rays on her locks of golden hair', 'and she swore shed be my love forever.', 'its not for the parting that my sister pains', 'its not for the grief of my mother', 'tis all for the loss of my bonny irish lass', 'that my heart is breaking forever.', 'in the merry month of june from me home i started,', 'left the girls of tuam so sad and broken hearted,', 'saluted father dear, kissed me darling mother,', 'drank a pint of beer, me grief and tears to smother,', 'then off to reap the corn, leave where i was born,', 'cut a stout black thorn to banish ghosts and goblins;', 'bought a pair of brogues rattling oer the bogs', 'and frightning all the dogs on the rocky road to dublin.', 'one, two, three four, five, hunt the hare and turn her down the rocky', 'road and all the way to dublin, whack follol de rah !', 'in mullingar that night i rested limbs so weary, started by daylight', 'next morning blithe and early, took a drop of pure to keep me heartfrom sinking;', 'thats a paddys cure whenever hes on drinking. see the lassies smile, laughing', 'all the while at me curious style, twould set your heart a bubblin', 'asked me was i hired, wages i required, i was almost tired of the', 'rocky road to dublin.', 'in dublin next arrived, i thought it be a pity', 'to be soon deprived a view of that fine city.', 'so then i took a stroll, all among the quality;', 'me bundle it was stole, all in a neat locality.', 'something crossed me mind, when i looked behind,', 'no bundle could i find upon me stick a wobblin', 'enquiring for the rogue, they said me connaught brogue', 'wasnt much in vogue on the rocky road to dublin.', 'from there i got away, me spirits never falling,', 'landed on the quay, just as the ship was sailing.', 'the captain at me roared, said that no room had he;', 'when i jumped aboard, a cabin found for paddy.', 'down among the pigs, played some hearty rigs,', 'danced some hearty jigs, the water round me bubbling;', 'when off holyhead wished meself was dead,', 'or better for instead on the rocky road to dublin.', 'well the bouys of liverpool, when we safely landed,', 'called meself a fool, i could no longer stand it.', 'blood began to boil, temper i was losing;', 'poor old erins isle they began abusing.', 'hurrah me soul says i, me shillelagh i let fly.', 'some galway boys were nigh and saw i was a hobble in,', 'with a load hurray ! joined in the affray.', 'we quitely cleared the way for the rocky road to dublin.', 'road and all the way to dublin, whack fol all the ra !', 'o see the fleet-foot host of men, who march with faces drawn,', 'from farmstead and from fishers cot, along the banks of ban;', 'they come with vengeance in their eyes. too late! too late are they,', 'for young roddy mccorley goes to die on the bridge of toome today.', 'oh ireland, mother ireland, you love them still the best', 'the fearless brave who fighting fall upon your hapless breast,', 'but never a one of all your dead more bravely fell in fray,', 'than he who marches to his fate on the bridge of toome today.', 'up the narrow street he stepped, so smiling, proud and young.', 'about the hemp-rope on his neck, the golden ringlets clung;', 'theres neer a tear in his blue eyes, fearless and brave are they,', 'as young roddy mccorley goes to die on the bridge of toome today.', 'when last this narrow street he trod, his shining pike in hand', 'behind him marched, in grim array, a earnest stalwart band.', 'to antrim town! to antrim town, he led them to the fray,', 'but young roddy mccorley goes to die on the bridge of toome today.', 'the grey coat and its sash of green were brave and stainless then,', 'a banner flashed beneath the sun over the marching men;', 'the coat hath many a rent this noon, the sash is torn away,', 'and roddy mccorley goes to die on the bridge of toome today.', 'oh, how his pike flashed in the sun! then found a foemans heart,', 'through furious fight, and heavy odds he bore a true mans part', 'and many a red-coat bit the dust before his keen pike-play,', 'but roddy mccorley goes to die on the bridge of toome today.', 'theres never a one of all your dead more bravely died in fray', 'than he who marches to his fate in toomebridge town today;', 'true to the last! true to the last, he treads the upwards way,', 'and young roddy mccorley goes to die on the bridge of toome today.', 'ive traveled all over this world', 'and now to another i go', 'and i know that good quarters are waiting', 'to welcome old rosin the bow', 'to welcome old rosin the bow.', 'when im dead and laid out on the counter', 'a voice you will hear from below', 'saying send down a hogshead of whiskey', 'to drink with old rosin the bow', 'to drink with old rosin the bow.', 'then get a half dozen stout fellows', 'and stack them all up in a row', 'let them drink out of half gallon bottles', 'to the memory of rosin the bow', 'to the memory of rosin the bow.', 'then get this half dozen stout fellows', 'and let them all stagger and go', 'and dig a great hole in the meadow', 'and in it put rosin the bow', 'and in it put rosin the bow.', 'then get ye a couple of bottles', 'put one at me head and me toe', 'with a diamond ring scratch upon them', 'the name of old rosin the bow', 'the name of old rosin the bow.', 'ive only this one consolation', 'as out of this world i go', 'i know that the next generation', 'will resemble old rosin the bow', 'will resemble old rosin the bow.', 'i fear that old tyrant approaching', 'that cruel remorseless old foe', 'and i lift up me glass in his honor', 'take a drink with old rosin the bow', 'take a drink with old rosin the bow.', 'he was stranded in a tiny town on fair prince edward isle', 'waiting for a ship to come and find him', 'a one horse place, a friendly face, some coffee and a tiny trace', 'of fiddlin in the distance far behind him', 'a dime across the counter then, a shy hello, a brand new friend', 'a walk along the street in the wintry weather', 'a yellow light, an open door, and a welcome friend, theres room for more', 'and then theyre standing there inside together', 'he said, ive heard that tune before somewhere but i cant remember when,', 'was it on some other friendly shore, did i hear it on the wind', 'was it written on the sky above, i think i heard it from someone i love', 'but i never heard a sound so sweet since then', 'and now his feet begin to tap, a little boy says, ill take your hat.', 'hes caught up in the magic of her smile', 'leap, the heart inside him went, and off across the floor he sent', 'his clumsy body, graceful as a child', 'he said, theres magic in the fiddlers arms and theres magic in this town', 'theres magic in the dancers feet and the way they put them down', 'people smiling everywhere, boots and ribbons, locks of hair', 'laughtcr, old blue suits and easter gowns', 'the sailors gone, the room is bare, the old pianos setting there', 'someones hats left hanging on the rack', 'the empty chair, the wooden floor that feels the touch of shoes no more', 'awaitin for the dancers to come back', 'and thc fiddles in the closet of some daughter of the town', 'the strings are broke, tbe bow is gone and the covers buttoned down', 'but sometimes on december nights, when the air is cold and the wind is right', 'theres a melody that passes through the town.', 'my young love said to me, my mother wont mind', 'and my father wont slight you for your lack of kind.', 'and she stepped away from me and this she did say', 'it will not be long, love, till our wedding day.', 'as she stepped away from me and she moved through the fair', 'and fondly i watched her move here and move there', 'and then she turned homeward with one star awake', 'like the swan in the evening moves over the lake.', 'the people were saying, no two eer were wed', 'but one had a sorrow that never was said', 'and i smiled as she passed with her goods and her gear', 'and that was the last that i saw of my dear.', 'last night she came to me, my dead love came in', 'so softly she came that her feet made no din', 'as she laid her hand on me and this she did say:', 'it will not be long, love, til our wedding day.', 'oh father dear, i oft-times hear you speak of erins isle', 'her lofty hills, her valleys green, her mountains rude and wild', 'they say she is a lovely land wherein a saint might dwell', 'so why did you abandon her, the reason to me tell.', 'oh son, i loved my native land with energy and pride', 'till a blight came oer the praties; my sheep, my cattle died', 'my rent and taxes went unpaid, i could not them redeem', 'and thats the cruel reason why i left old skibbereen.', 'oh well do i remember that bleak december day', 'the landlord and the sheriff came to take us all away', 'they set my roof on fire with their cursed english spleen', 'i heaved a sigh and bade goodbye to dear old skibbereen.', 'your mother too, god rest her soul, fell on the stony ground', 'she fainted in her anguish seeing desolation round', 'she never rose but passed away from life to immortal dream', 'she found a quiet grave, me boy, in dear old skibbereen.', 'and you were only two years old and feeble was your frame', 'i could not leave you with my friends for you bore your fathers name', 'i wrapped you in my c�ta m�r in the dead of night unseen', 'oh father dear, the day will come when in answer to the call', 'all irish men of freedom stern will rally one and all', 'ill be the man to lead the band beneath the flag of green', 'and loud and clear well raise the cheer, revenge for skibbereen!', 'be thou my vision, o lord of my heart', 'naught be all else to me save that thou art', 'thou my best thought by day or by night', 'waking or sleeping thy presence my light.', 'be thou my wisdom, thou my true word', 'i ever with thee, thou with me, lord', 'thou my great father, i thy true son', 'thou in me dwelling, and i with thee one.', 'be thou my battleshield, sword for the fight', 'be thou my dignity, thou my delight', 'thou my souls shelter, thou my high tower', 'raise thou me heavenward, o power of my power.', 'riches i heed not, nor mans empty praise', 'thou mine inheritance, now and always', 'thou and thou only, first in my heart', 'high king of heavem, my treasure thou art.', 'high king of heaven, after victory won', 'may i reach heavens joys, o bright heavens sun', 'heart of my own heart, whatever befall', 'still be my vision, o ruler of all.', 'last night as i lay dreaming of pleasant days gone by', 'my mind being bent on rambling to ireland i did fly', 'i stepped on board a vision and i followed with the wind', 'and i shortly came to anchor at the cross of spancil hill', 'it being the 23rd june the day before the fair', 'when lrelands sons and daughters in crowds assembled there', 'the young and the old, the brave and the bold their journey to fulfill', 'there were jovial conversations at the fair of spancil hill', 'i went to see my neighbors to hear what they might say', 'the old ones were all dead and gone and the young ones turning grey', 'i met with the tailor quigley, hes a bould as ever still', 'sure he used to make my britches when i lived in spancil hill', 'i paid a flying visit to my first and only love', 'shes as white as any lily and as gentle as a dove', 'she threw her arms around me saying johnny i love you still', 'oh shes ned the farmers daughter and the flower of spancil hiii', 'i dreamt i held and kissed her as in the days of yore', 'she said, johnny youre only joking like manys the time before', 'the cock he crew in the morning he crew both loud and shrill', 'and i awoke in california, many miles from spancil hill.', 'near banbridge town, in the county down', 'one morning in july', 'down a boreen green came a sweet colleen', 'and she smiled as she passed me by.', 'she looked so sweet from her two white feet', 'to the sheen of her nut-brown hair', 'such a coaxing elf, id to shake myself', 'to make sure i was standing there.', 'from bantry bay up to derry quay', 'and from galway to dublin town', 'no maid ive seen like the sweet colleen', 'that i met in the county down.', 'as she onward sped i shook my head', 'and i gazed with a feeling rare', 'and i said, says i, to a passerby', 'whos the maid with the nut-brown hair?', 'he smiled at me, and with pride says he,', 'thats the gem of irelands crown.', 'shes young rosie mccann from the banks of the bann', 'shes the star of the county down.', 'ive travelled a bit, but never was hit', 'since my roving career began', 'but fair and square i surrendered there', 'to the charms of young rose mccann.', 'id a heart to let and no tenant yet', 'did i meet with in shawl or gown', 'but in she went and i asked no rent', 'from the star of the county down.', 'at the crossroads fair ill be surely there', 'and ill dress in my sunday clothes', 'and ill try sheeps eyes, and deludhering lies', 'on the heart of the nut-brown rose.', 'no pipe ill smoke, no horse ill yoke', 'though with rust my plow turns brown', 'till a smiling bride by my own fireside', 'sits the star of the county down.', 'it was early, early in the spring', 'the birds did whistle and sweetly sing', 'changing their notes from tree to tree', 'and the song they sang was old ireland free.', 'it was early early in the night,', 'the yeoman cavalry gave me a fright', 'the yeoman cavalry was my downfall', 'and i was taken by lord cornwall.', 'twas in the guard-house where i was laid,', 'and in a parlour where i was tried', 'my sentence passed and my courage low', 'when to dungannon i was forced to go.', 'as i was passing my fathers door', 'my brother william stood at the door', 'my aged father stood at the door', 'and my tender mother her hair she tore.', 'as i was going up wexford street', 'my own first cousin i chanced to meet;', 'my own first cousin did me betray', 'and for one bare guinea swore my life away.', 'as i was walking up wexford hill', 'who could blame me to cry my fill?', 'i looked behind, and i looked before', 'but my aged mother i shall see no more.', 'and as i mounted the platform high', 'my aged father was standing by;', 'my aged father did me deny', 'and the name he gave me was the croppy boy.', 'it was in dungannon this young man died', 'and in dungannon his body lies.', 'and you good people that do pass by', 'oh shed a tear for the croppy boy.', 'one morning early i walked forth', 'by the margin of lough leane', 'the sunshine dressed the trees in green', 'and summer bloomed again', 'i left the town and wandered on', 'through fields all green and gay', 'and whom should i meet but a colleen sweet', 'at the dawning of the day.', 'no cap or cloak this maiden wore', 'her neck and feet were bare', 'down to the grass in ringlets fell', 'her glossy golden hair', 'a milking pail was in her hand', 'she was lovely, young and gay', 'she wore the palm from venus bright', 'by the dawning of the day.', 'on a mossy bank i sat me down', 'with the maiden by my side', 'with gentle words i courted her', 'and asked her to be my bride', 'she said, young man dont bring me blame', 'and swiftly turned away', 'and the morning light was shining bright', 'by a lonely prison wall', 'i heard a sweet voice calling,', 'danny, they have taken you away.', 'for you stole travelians corn,', 'that your babes might see the morn,', 'now a prison ship lies waiting in the bay.', 'fair lie the fields of athenry', 'where once we watched the small freebirds fly.', 'our love grew with the spring,', 'we had dreams and songs to sing', 'as we wandered through the fields of athenry.', 'i heard a young man calling', 'nothing matters, jenny, when youre free', 'against the famine and the crown,', 'i rebelled, they ran me down,', 'now you must raise our children without me.', 'on the windswept harbour wall,', 'she watched the last star rising', 'as the prison ship sailed out across the sky', 'but shell watch and hope and pray,', 'for her love in botany bay', 'whilst she is lonely in the fields of athenry.', 'oh, a wan cloud was drawn oer the dim weeping dawn', 'as to shannons side i returnd at last', 'and the heart in my breast for the girl i lovd best', 'was beating, ah, beating, loud and fast!', 'while the doubts and the fears of the long aching years', 'seemd mingling their voices with the moaning flood', 'till full in my path, like a wild water wrath', 'my true loves shadow lamenting stood.', 'but the sudden sun kissd the cold, cruel mist', 'into dancing showrs of diamond dew', 'and the dark flowing stream laughd back to his beam', 'and the lark soared aloft in the blue', 'while no phantom of night but a form of delight', 'ran with arms outspread to her darling boy', 'and the girl i love best on my wild throbbing breast', 'hid her thousand treasures with cry of joy.', 'gather up the pots and the old tin cans', 'the mash, the corn, the barley and the bran.', 'run like the devil from the excise man', 'keep the smoke from rising, barney.', 'keep your eyes well peeled today', 'the excise men are on their way', 'searching for the mountain tay', 'in the hills of connemara.', 'swinging to the left, swinging to the right', 'the excise men will dance all night', 'drinkin up the tay till the broad daylight', 'a gallon for the butcher and a quart for john', 'and a bottle for poor old father tom', 'just to help the poor old dear along', 'stand your ground, for its too late', 'the excise men are at the gate.', 'glory be to paddy, but theyre drinkin it straight', 'im sitting on the stile, mary, where we once sat side by side', 'on a bright may morning long ago, when first you were my bride', 'the corn was springing fresh and green, and the lark sang loud and high', 'and the red was on your lips, mary, and the love light in your eyes.', 'tis but a step down yonder lane, the village church stands near', 'the place where we were wed, mary, i can see the spire from here', 'but the graveyard lies between, mary, and my step might break your rest', 'where i laid you darling down to sleep with a baby on your breast.', 'im very lonely now, mary, for the poor make no new friends', 'but oh they love the better still the few our father sends', 'for you were all i had, mary, my blessing and my pride', 'and ive nothing left to care for now since my poor mary died.', 'yours was the good brave heart, mary, that still kept hoping on', 'when the trust in god had left my soul and my arms young strength had gone', 'there was comfort ever on your lip and a kind look on your brow', 'and i thank you mary for the same though you cannot hear me now.', 'im bidding you a long farewell, my mary kind and true', 'but ill not forget you, darling, in the land im going to', 'they say theres bread and work for all, and the sun shines always there', 'but ill neer forget old ireland, were it fifty times as fair.', 'and often in those grand old woods ill sit and shut my eyes', 'and my heart will wander back again to the place where mary lies', 'and i think ill see that little stile where we sat side by side', 'in the springing corn and the bright may morn when first you were my bride.', 'when i was at home i was merry and frisky,', 'my dad kept a pig and my mother sold whisky,', 'my uncle was rich, but never would by aisey', 'till i was enlisted by corporal casey.', 'och! rub a dub, row de dow, corporal casey,', 'my dear little shelah, i thought would run crazy,', 'when i trudged away with tough corporal casey.', 'i marched from kilkenny, and, as i was thinking', 'on shelah, my heart in my bosom was sinking,', 'but soon i was forced to look fresh as a daisy,', 'for fear of a drubbing from corporal casey.', 'och! rub a dub, row de dow, corporal casey!', 'the devil go with him, i neer could be lazy,', 'he struck my shirts so, ould corporal casey.', 'we went into battle, i took the blows fairly', 'that fell on my pate, but they bothered me rarely,', 'and who should the first be that dropped, why, and please ye,', 'it was my good friend, honest corporal casey.', 'thinks i you are quiet, and i shall be aisey,', 'so eight years i fought without corporal casey.', 'i am a little beggarman, a begging i have been', 'for three score years in this little isle of green', 'im known along the liffey from the basin to the zoo', 'and everybody calls me by the name of johnny dhu.', 'of all the trades a going, sure the begging is the best', 'for when a man is tired he can sit him down and rest', 'he can beg for his dinner, he has nothing else to do', 'but to slip around the corner with his old rigadoo.', 'i slept in a barn one night in currabawn', 'a shocking wet night it was, but i slept until the dawn', 'there was holes in the roof and the raindrops coming thru', 'and the rats and the cats were a playing peek a boo.', 'who did i waken but the woman of the house', 'with her white spotted apron and her calico blouse', 'she began to frighten and i said boo', 'sure, dont be afraid at all, its only johnny dhu.', 'i met a little girl while a walkin out one day', 'good morrow little flaxen haired girl, i did say', 'good morrow little beggarman and how do you do', 'with your rags and your tags and your auld rigadoo.', 'ill buy a pair of leggins and a collar and a tie', 'and a nice young lady ill go courting by and by', 'ill buy a pair of goggles and ill color them with blue', 'and an old fashioned lady i will make her too.', 'so all along the high road with my bag upon my back', 'over the fields with my bulging heavy sack', 'with holes in my shoes and my toes a peeping thru', 'singing, skin a ma rink a doodle with my auld rigadoo.', 'o i must be going to bed for its getting late at night', 'the fire is all raked and now tis out of light', 'for now youve heard the story of my auld rigadoo', 'so good and god be with you, from auld johnny dhu.', 'oh, the days of the kerry dancing', 'oh, the ring of the pipers tune', 'oh, for one of those hours of gladness', 'gone, alas, like our youth, too soon!', 'when the boys began to gather', 'in the glen of a summers night', 'and the kerry pipers tuning', 'made us long with wild delight!', 'oh, to think of it', 'oh, to dream of it', 'fills my heart with tears!', 'was there ever a sweeter colleen', 'in the dance than eily more', 'or a prouder lad than thady', 'as he boldly took the floor.', 'lads and lasses to your places', 'up the middle and down again', 'ah, the merry hearted laughter', 'ringing through the happy glen!', 'time goes on, and the happy years are dead', 'and one by one the merry hearts are fled', 'silent now is the wild and lonely glen', 'where the bright glad laugh will echo neer again', 'only dreaming of days gone by in my heart i hear.', 'loving voices of old companions', 'stealing out of the past once more', 'and the sound of the dear old music', 'soft and sweet as in days of yore.', 'dear thoughts are in my mind', 'and my soul soars enchanted,', 'as i hear the sweet lark sing', 'in the clear air of the day.', 'for a tender beaming smile', 'to my hope has been granted,', 'and tomorrow she shall hear', 'all my fond heart would say.', 'i shall tell her all my love,', 'all my souls adoration,', 'and i think she will hear', 'and will not say me nay.', 'it is this that gives my soul', 'all its joyous elation,', 'its cold and raw, the north winds blow', 'black in the morning early', 'when all the hills were covered with snow', 'oh then it was winter fairly.', 'as i was riding oer the moor', 'i met a farmers daughter', 'her cherry cheeks and coal-black hair', 'they caused my heart to falter.', 'i bowed my bonnet very low', 'to let her know my meaning.', 'she answered with a courteous smile', 'her looks they were engaging.', 'where are you bound my pretty maid', 'its now in the morning early?', 'the answer that she gave to me', 'kind sir, to sell my barley.', 'now twenty guineas ive in my purse', 'and twenty more thats yearly.', 'you need not go to the market town', 'for ill buy all your barley.', 'if twenty guineas would gain the heart', 'of the maid i love so dearly', 'all for to tarry with me one night', 'and go home in the morning early.', 'the very evening after', 'it was my fortune for to meet', 'the farmers only daughter.', 'although the weather being cold and raw', 'with her i thought to parlay', 'the answer that she gave to me:', 'kind sir, ive sold my barley.', 'the minstrel boy to the war is gone', 'in the ranks of death you will find him', 'his fathers sword he hath girded on', 'and his wild harp slung behind him', 'land of song! said the warrior bard', 'tho all the world betrays thee', 'one sword, at least, thy rights shall guard', 'one faithful harp shall praise thee!', 'the minstrel fell! but the foemans chain', 'could not bring that proud soul under', 'the harp he lovd neer spoke again', 'for he tore its chords asunder', 'and said no chains shall sully thee', 'thou soul of love and bravry!', 'thy songs were made for the pure and free,', 'they shall never sound in slavery!', 'oh mary this londons a wonderful sight', 'with people here workin by day and by night', 'they dont sow potatoes, nor barley, nor wheat', 'but theres gangs of them diggin for gold in the street', 'at least when i asked them thats what i was told', 'so i just took a hand at this diggin for gold', 'but for all that i found there i might as well be', 'where the mountains of mourne sweep down to the sea.', 'i believe that when writin a wish you expressed', 'as to how the fine ladies in london were dressed', 'well if youll believe me, when asked to a ball', 'they dont wear no top to their dresses at all', 'oh ive seen them meself and you could not in truth', 'say that if they were bound for a ball or a bath', 'dont be startin them fashions, now mary mccree', 'theres beautiful girls here, oh never you mind', 'with beautiful shapes nature never designed', 'and lovely complexions all roses and cream', 'but let me remark with regard to the same', 'that if that those roses you venture to sip', 'the colors might all come away on your lip', 'so ill wait for the wild rose thats waitin for me', 'in the place where the dark mourne sweeps down to the sea.', 'beauing, belling, dancing, drinking,', 'breaking windows, cursing, sinking', 'every raking, never thinking,', 'live the rakes of mallow,', 'spending faster than it comes,', 'beating waiters bailiffs, duns,', 'bacchus true begotten sons,', 'live the rakes of mallow.', 'one time naught but claret drinking,', 'then like politicians, thinking', 'to raise the sinking funds when sinking.', 'when at home, with da-da dying,', 'still for mellow water crying,', 'but, where theres good claret plying', 'live the rakes of mallow.  ', 'when at home with dadda dying,', 'still for mallow-water crying,', 'but where there is good claret plying', 'living short but merry lives,', 'going where the devil drives,', 'having sweethearts, but no wives,', 'racking tenants stewards teasing,', 'swiftly spending, slowly raising,', 'wishing to spend all their days in', 'raking as at mallow.', 'then to end this raking life,', 'they get sober, take a wife,', 'ever after live in strife,', 'and wish again for mallow.', 'how sweet is to roam by the sunny shure stream', 'and hear the doves coo neath the morning sunbeam', 'where the thrush and the robin their sweet notes entwine', 'on the banks of the shure that flows down by mooncoin.', 'flow on, lovely river, flow gently along', 'by your waters so sweet sounds the larks merry song', 'on your green banks i wander where first i did join', 'with you, lovely molly, the rose of mooncoin.', 'oh molly, dear molly, it breaks my fond heart', 'to know that we two forever must part', 'ill think of you molly while sun and moon shine', 'then heres to the shure with its valley so fair', 'as oftimes we wandered in the cool morning air', 'where the roses are blooming and lilies entwine', 'the pale moon was rising above the green mountain', 'the sun was declining beneath the blue sea', 'when i strayed with my love to the pure crystal fountain', 'that stands in beautiful vale of tralee.', 'she was lovely and fair as the rose of the summer', 'yet, twas not her beauty alone that won me', 'oh no! twas the the truth in her eye ever beaming', 'that made me love mary, the rose of tralee.', 'the cool shades of evening their mantle were spreading', 'and mary all smiling was listening to me', 'the moon through the valley her pale rays was shedding', 'when i won the heart of the rose of tralee.', 'though lovely and fair as the rose of the summer', 'mellow the moonlight to shine is beginning', 'close by the window young eileen is spinning', 'bent oer the fire her blind grandmother sitting', 'crooning and moaning and drowsily knitting.', 'merrily cheerily noiselessly whirring', 'spins the wheel, rings the wheel while the foots stirring', 'sprightly and lightly and merrily ringing', 'sounds the sweet voice of the young maiden singing.', 'eileen, a chara, i hear someone tapping', 'tis the ivy dear mother against the glass flapping', 'eileen, i surely hear somebody sighing', 'tis the sound mother dear of the autumn winds dying.', 'whats the noise i hear at the window i wonder?', 'tis the little birds chirping, the holly-bush under', 'what makes you shoving and moving your stool on', 'and singing all wrong the old song of the coolin?', 'theres a form at the casement, the form of her true love', 'and he whispers with face bent, im waiting for you love', 'get up from the stool, through the lattice step lightly', 'and well rove in the grove while the moons shining brightly.', 'the maid shakes her head, on her lips lays her fingers', 'steps up from the stool, longs to go and yet lingers', 'a frightened glance turns to her drowsy grandmother', 'puts her foot on the stool spins the wheel with the other', 'lazily, easily, now swings the wheel round', 'slowly and lowly is heard now the reels sound', 'noiseless and light to the lattice above her', 'the maid steps, then leaps to the arms of her lover.', 'slower... and slower... and slower the wheel swings', 'lower... and lower... and lower the reel rings', 'ere the reel and the wheel stop their ringing and moving', 'through the grove the young lovers by moonlight are roving.', 'as i roved out one morning', 'near the verdant braes of skreen', 'i put my back to the mossy tree', 'to view the dew on the west countrie', 'the dew on the foreign strand.', 'o sit ye down on the grass, he said', 'on the dewy grass so green', 'for the wee birds all have come and gone', 'since i my true love seen, he said', 'since i my true love seen.', 'o ill not sit on the grass, she said', 'no lover ill be of thine', 'for i hear you love a connaught maid', 'and your hearts no longer mine, she said', 'and your hearts no longer mine.', 'o i will climb a high high tree', 'and ill rob a wild birds nest', 'and back ill bring what i find there', 'to the arms that i love best, he said', 'to the arms that i love best.', 'the water is wide, i cannot get oer', 'neither have i wings to fly', 'give me a boat that can carry two', 'and both shall row, my love and i', 'a ship there is and she sails the sea', 'shes loaded deep as deep can be', 'but not so deep as the love im in', 'i know not if i sink or swim', 'i leaned my back against an oak', 'thinking it was a trusty tree', 'but first it bent and then it broke', 'so did my love prove false to me', 'i reached my finger into some soft bush', 'thinking the fairest flower to find', 'i pricked my finger to the bone', 'and left the fairest flower behind', 'oh love be handsome and love be kind', 'gay as a jewel when first it is new', 'but love grows old and waxes cold', 'and fades away like the morning dew', 'must i go bound while you go free', 'must i love a man who doesnt love me', 'must i be born with so little art', 'as to love a man wholl break my heart', 'when cockle shells turn silver bells', 'then will my love come back to me', 'when roses bloom in winters gloom', 'then will my love return to me', 'o paddy dear, and did ye hear the news thats goin round?', 'the shamrock is by law forbid to grow on irish ground!', 'no more saint patricks day well keep, his color cant be seen', 'for theres a cruel law agin the wearin o the green.', 'i met with napper tandy, and he took me by the hand', 'and he said, hows poor old ireland, and how does she stand?', 'shes the most distressful country that ever yet was seen', 'for theyre hanging men and women there for the wearin o the green.', 'so if the color we must wear be englands cruel red', 'let it remind us of the blood that irishmen have shed', 'and pull the shamrock from your hat, and throw it on the sod', 'but never fear, twill take root there, though underfoot tis trod.', 'when laws can stop the blades of grass from growin as they grow', 'and when the leaves in summer-time their color dare not show', 'then i will change the color too i wear in my caubeen', 'but till that day, please god, ill stick to the wearin o the green.', 'ive been a wild rover for many a year', 'and i spent all my money on whiskey and beer,', 'and now im returning with gold in great store', 'and i never will play the wild rover no more.', 'and its no, nay, never,', 'no nay never no more,', 'will i play the wild rover', 'no never no more.', 'i went to an ale-house i used to frequent', 'and i told the landlady my money was spent.', 'i asked her for credit, she answered me nay', 'such a custom as yours i could have any day.', 'i took from my pocket ten sovereigns bright', 'and the landladys eyes opened wide with delight.', 'she said i have whiskey and wines of the best', 'and the words that i spoke sure were only in jest.', 'ill go home to my parents, confess what ive done', 'and ill ask them to pardon their prodigal son.', 'and if they caress (forgive) me as ofttimes before', 'sure i never will play the wild rover no more.', 'theres a tear in your eye,', 'and im wondering why,', 'for it never should be there at all.', 'with such powr in your smile,', 'sure a stone youd beguile,', 'so theres never a teardrop should fall.', 'when your sweet lilting laughters', 'like some fairy song,', 'and your eyes twinkle bright as can be;', 'you should laugh all the while', 'and all other times smile,', 'and now, smile a smile for me.', 'when irish eyes are smiling,', 'sure, tis like the morn in spring.', 'in the lilt of irish laughter', 'you can hear the angels sing.', 'when irish hearts are happy,', 'all the world seems bright and gay.', 'and when irish eyes are smiling,', 'sure, they steal your heart away.', 'for your smile is a part', 'of the love in your heart,', 'and it makes even sunshine more bright.', 'like the linnets sweet song,', 'crooning all the day long,', 'comes your laughter and light.', 'for the springtime of life', 'is the sweetest of all', 'there is neer a real care or regret;', 'and while springtime is ours', 'throughout all of youths hours,', 'let us smile each chance we get.', 'as i was a-goin over gilgarra mountain', 'i spied colonel farrell, and his money he was countin.', 'first i drew my pistols and then i drew my rapier,', 'sayin stand and deliver, for i am your bold receiver.', 'musha ringum duram da,', 'whack fol the daddy-o,', 'he counted out his money and it made a pretty penny;', 'i put it in my pocket to take home to darlin jenny.', 'she sighed and swore she loved me and never would deceive me,', 'bu the devil take the women, for they always lie so easy!', 'musha rungum duram da', 'i went into me chamber all for to take a slumber,', 'to dream of gold and girls, and of course it was no wonder:', 'me jenny took me charges and she filled them up with water,', 'called on colonel farrell to get ready for the slaughter.', 'next mornin early, before i rose for travel,', 'a-came a band of footmen and likewise colonel farrell.', 'i goes to draw my pistol, for shed stole away my rapier,', 'but a prisoner i was taken, i couldnt shoot the water.', 'they put me into jail with a judge all a-writin:', 'for robbin colonel farrell on gilgarra mountain.', 'but they didnt take me fists and i knocked the jailer down', 'and bid a farewell to this tight-fisted town.', 'musha ringum duram da', 'id like to find me brother, the one whos in the army;', 'i dont know where hes stationed, be it cork or in killarney.', 'together wed go roamin oer the mountains of kilkenny,', 'and i swear hed treat me fairer than my darlin sportin jenny!', 'theres some takes delight in the carriages and rollin,', 'some takes delight in the hurley or the bollin,', 'but i takes delight in the juice of the barley,', 'courtin pretty maids in the mornin, o so early!', 'oh the summertime is coming', 'and the trees are sweetly blooming', 'and the wild mountain thyme', 'grows around the blooming heather', 'will ye go, lassie go?', 'and well all go together', 'to pluck wild mountain thyme', 'all around the blooming heather', 'i will build my love a tower', 'near yon pure crystal fountain', 'and on it i will build', 'all the flowers of the mountain', 'if my true love she were gone', 'i would surely find another', 'where wild mountain thyme', '']\n"
     ]
    }
   ],
   "source": [
    "# Load the dataset\n",
    "data = open('./data/irish-lyrics-eof.txt').read()\n",
    "\n",
    "# Lowercase and split the text\n",
    "corpus = data.lower().split(\"\\n\")\n",
    "\n",
    "# Preview the result\n",
    "print(corpus)"
   ]
  },
  {
   "cell_type": "markdown",
   "metadata": {
    "id": "EkP2CP0qP8RD"
   },
   "source": [
    "From here, you can initialize the `TextVectorization` class and generate the vocabulary:"
   ]
  },
  {
   "cell_type": "code",
   "execution_count": 4,
   "metadata": {
    "id": "PRnDnCW-Z7qv"
   },
   "outputs": [
    {
     "name": "stderr",
     "output_type": "stream",
     "text": [
      "WARNING: All log messages before absl::InitializeLog() is called are written to STDERR\n",
      "I0000 00:00:1728494001.799118  179684 cuda_executor.cc:1001] could not open file to read NUMA node: /sys/bus/pci/devices/0000:01:00.0/numa_node\n",
      "Your kernel may have been built without NUMA support.\n",
      "I0000 00:00:1728494001.992764  179684 cuda_executor.cc:1001] could not open file to read NUMA node: /sys/bus/pci/devices/0000:01:00.0/numa_node\n",
      "Your kernel may have been built without NUMA support.\n",
      "I0000 00:00:1728494001.992812  179684 cuda_executor.cc:1001] could not open file to read NUMA node: /sys/bus/pci/devices/0000:01:00.0/numa_node\n",
      "Your kernel may have been built without NUMA support.\n",
      "I0000 00:00:1728494001.999124  179684 cuda_executor.cc:1001] could not open file to read NUMA node: /sys/bus/pci/devices/0000:01:00.0/numa_node\n",
      "Your kernel may have been built without NUMA support.\n",
      "I0000 00:00:1728494001.999166  179684 cuda_executor.cc:1001] could not open file to read NUMA node: /sys/bus/pci/devices/0000:01:00.0/numa_node\n",
      "Your kernel may have been built without NUMA support.\n",
      "I0000 00:00:1728494001.999182  179684 cuda_executor.cc:1001] could not open file to read NUMA node: /sys/bus/pci/devices/0000:01:00.0/numa_node\n",
      "Your kernel may have been built without NUMA support.\n",
      "I0000 00:00:1728494002.637678  179684 cuda_executor.cc:1001] could not open file to read NUMA node: /sys/bus/pci/devices/0000:01:00.0/numa_node\n",
      "Your kernel may have been built without NUMA support.\n",
      "I0000 00:00:1728494002.637738  179684 cuda_executor.cc:1001] could not open file to read NUMA node: /sys/bus/pci/devices/0000:01:00.0/numa_node\n",
      "Your kernel may have been built without NUMA support.\n",
      "2024-10-09 14:13:22.637750: I tensorflow/core/common_runtime/gpu/gpu_device.cc:2112] Could not identify NUMA node of platform GPU id 0, defaulting to 0.  Your kernel may not have been built with NUMA support.\n",
      "I0000 00:00:1728494002.637787  179684 cuda_executor.cc:1001] could not open file to read NUMA node: /sys/bus/pci/devices/0000:01:00.0/numa_node\n",
      "Your kernel may have been built without NUMA support.\n",
      "2024-10-09 14:13:22.638390: I tensorflow/core/common_runtime/gpu/gpu_device.cc:2021] Created device /job:localhost/replica:0/task:0/device:GPU:0 with 3586 MB memory:  -> device: 0, name: NVIDIA GeForce RTX 3060 Laptop GPU, pci bus id: 0000:01:00.0, compute capability: 8.6\n"
     ]
    }
   ],
   "source": [
    "# Initialize the vectorization layer\n",
    "vectorize_layer = tf.keras.layers.TextVectorization()\n",
    "\n",
    "# Build the vocabulary\n",
    "vectorize_layer.adapt(corpus)"
   ]
  },
  {
   "cell_type": "code",
   "execution_count": 5,
   "metadata": {
    "id": "oQb4sCPJ1a9N",
    "scrolled": true
   },
   "outputs": [
    {
     "name": "stdout",
     "output_type": "stream",
     "text": [
      "['', '[UNK]', 'the', 'and', 'i', 'to', 'a', 'of', 'my', 'in', 'me', 'for', 'you', 'all', 'was', 'she', 'that', 'on', 'with', 'her', 'but', 'as', 'when', 'love', 'is', 'your', 'it', 'will', 'from', 'by', 'they', 'be', 'are', 'so', 'old', 'he', 'oh', 'no', 'ill', 'at', 'one', 'his', 'were', 'there', 'heart', 'down', 'where', 'we', 'now', 'young', 'never', 'go', 'then', 'not', 'did', 'come', 'said', 'away', 'them', 'their', 'sweet', 'green', 'take', 'if', 'our', 'like', 'out', 'night', 'town', 'this', 'have', 'fair', 'day', 'can', 'true', 'thou', 'theres', 'see', 'or', 'more', 'its', 'had', 'dear', 'would', 'up', 'over', 'o', 'ive', 'hear', 'well', 'through', 'home', 'again', 'oer', 'land', 'im', 'ye', 'still', 'sea', 'long', 'left', 'good', 'father', 'wild', 'rose', 'morning', 'could', 'who', 'eyes', 'while', 'took', 'little', 'him', 'first', 'bow', 'back', 'an', 'some', 'shall', 'say', 'mary', 'man', 'let', 'know', 'high', 'gone', 'get', 'ever', 'came', 'till', 'rosin', 'put', 'own', 'mountain', 'may', 'heard', 'hand', 'early', 'dead', 'bright', 'time', 'thee', 'sure', 'round', 'only', 'must', 'maid', 'girl', 'gave', 'find', 'far', 'dublin', 'world', 'what', 'tis', 'seen', 'road', 'once', 'mother', 'last', 'johnny', 'has', 'fine', 'delight', 'went', 'way', 'too', 'today', 'thats', 'than', 'soul', 'shes', 'neer', 'moon', 'meet', 'just', 'id', 'hair', 'goes', 'girls', 'do', 'die', 'days', 'darling', 'youre', 'youll', 'thyme', 'thy', 'smile', 'sing', 'pretty', 'poor', 'passed', 'new', 'make', 'lovely', 'life', 'irish', 'into', 'give', 'died', 'boy', 'wish', 'wid', 'sun', 'song', 'since', 'should', 'saw', 'rocky', 'red', 'met', 'made', 'loves', 'light', 'leave', 'friends', 'free', 'fields', 'each', 'dont', 'cold', 'casey', 'boys', 'best', 'behind', 'before', 'ball', 'arms', 'am', 'years', 'white', 'water', 'us', 'twas', 'tree', 'tell', 'stepped', 'spent', 'soon', 'saying', 'row', 'roses', 'place', 'next', 'money', 'mind', 'might', 'merry', 'many', 'loved', 'live', 'kind', 'keep', 'ireland', 'how', 'ground', 'grass', 'got', 'going', 'drink', 'door', 'corporal', 'bridge', 'blue', 'black', 'barley', 'around', 'along', 'woman', 'very', 'two', 'toome', 'times', 'three', 'though', 'think', 'taken', 'street', 'star', 'stand', 'sons', 'singing', 'side', 'ship', 'shining', 'says', 'plenty', 'play', 'ones', 'near', 'mountains', 'molly', 'men', 'look', 'lanigans', 'hes', 'heres', 'forever', 'feet', 'erin', 'daughter', 'brave', 'banks', 'asked', 'always', 'youve', 'wind', 'why', 'wheel', 'welcome', 'wedding', 'voice', 'upon', 'until', 'thinking', 'tears', 'such', 'stole', 'smiling', 'sit', 'roddy', 'quite', 'proud', 'nice', 'mine', 'mccorley', 'low', 'lover', 'looked', 'lonely', 'late', 'laid', 'hills', 'hill', 'great', 'god', 'found', 'fly', 'fell', 'fathers', 'face', 'every', 'eer', 'dancing', 'comrades', 'colleen', 'call', 'bragh', 'birds', 'been', 'band', 'ballyjamesduff', 'another', 'above', 'able', 'yet', 'wont', 'women', 'whiskey', 'watched', 'wall', 'valley', 'til', 'thought', 'those', 'theyre', 'summers', 'struck', 'spancil', 'sound', 'soft', 'snow', 'sinking', 'shore', 'shed', 'set', 'sat', 'same', 'run', 'rover', 'right', 'relations', 'pure', 'pipes', 'people', 'peace', 'paddy', 'off', 'nothing', 'none', 'name', 'mothers', 'most', 'morn', 'married', 'mallow', 'makes', 'maiden', 'longer', 'lies', 'hope', 'here', 'harp', 'happy', 'handsome', 'grows', 'golden', 'gold', 'glen', 'glass', 'gay', 'fought', 'flowers', 'fire', 'fellows', 'evening', 'eileen', 'easy', 'dying', 'dream', 'doneen', 'dew', 'devil', 'dawning', 'danced', 'cruel', 'county', 'corn', 'color', 'colonel', 'clear', 'cheeks', 'care', 'cannot', 'bride', 'breast', 'bound', 'both', 'bonnie', 'blooming', 'began', 'beauty', 'beautiful', 'art', 'any', 'alas', 'ago', 'across', 'without', 'wide', 'whack', 'weeks', 'weary', 'waiting', 'valleys', 'used', 'twenty', 'turn', 'tune', 'truth', 'tried', 'tore', 'together', 'thing', 'ten', 'tear', 'swore', 'sunshine', 'stool', 'stick', 'step', 'spring', 'smiled', 'sleep', 'sky', 'skibbereen', 'sir', 'shell', 'sayin', 'roving', 'rosie', 'room', 'rings', 'ringing', 'rigadoo', 'rest', 'raw', 'ran', 'raise', 'prison', 'please', 'pistols', 'pale', 'ould', 'other', 'oflynn', 'och', 'nor', 'nay', 'na', 'musha', 'mbó', 'magic', 'loving', 'loud', 'lord', 'lie', 'leaves', 'lark', 'lads', 'knew', 'kissed', 'kathleen', 'judge', 'joy', 'jewel', 'jenny', 'isle', 'hours', 'horse', 'hed', 'hearts', 'guns', 'grow', 'grief', 'four', 'fortune', 'forget', 'fond', 'fill', 'fear', 'farrell', 'fall', 'eye', 'excise', 'end', 'dungannon', 'dreams', 'didnt', 'decay', 'death', 'deas', 'danny', 'da', 'crúite', 'cry', 'creole', 'country', 'comes', 'cliffs', 'city', 'cant', 'calling', 'cailín', 'bring', 'break', 'born', 'blood', 'bid', 'bent', 'bells', 'being', 'bay', 'auld', 'answer', 'alone', 'air', 'ah', 'aged', 'against', 'youth', 'youd', 'yore', 'write', 'wonder', 'won', 'winds', 'window', 'which', 'whereon', 'wexford', 'west', 'wed', 'wearin', 'wear', 'watch', 'warm', 'war', 'want', 'wandered', 'wander', 'visit', 'vision', 'view', 'velvet', 'van', 'under', 'turns', 'turned', 'tralee', 'tooralooralooral', 'tones', 'tomorrow', 'told', 'toe', 'tired', 'thousand', 'tho', 'tender', 'takes', 'sword', 'sweetly', 'surely', 'sunday', 'summer', 'stream', 'stout', 'stop', 'stood', 'steps', 'stay', 'stars', 'stands', 'standing', 'spoke', 'spend', 'souls', 'songs', 'son', 'soldiers', 'sold', 'slumber', 'slower', 'sleeping', 'slainte', 'silver', 'sighed', 'shure', 'shaken', 'shadow', 'save', 'sang', 'salley', 'saint', 'sad', 'rosy', 'rising', 'ringlets', 'ring', 'rich', 'return', 'rent', 'reel', 'rays', 'rather', 'raking', 'rakes', 'quiet', 'pride', 'precious', 'pray', 'praise', 'played', 'plain', 'past', 'parting', 'part', 'pair', 'ocean', 'nutbrown', 'nest', 'neither', 'neatest', 'neat', 'narrow', 'myself', 'much', 'mossy', 'minstrel', 'middle', 'meself', 'memory', 'mairi', 'ma', 'lower', 'lips', 'lip', 'leg', 'led', 'law', 'laughter', 'lassie', 'landed', 'lake', 'lad', 'kilrain', 'killarney', 'kilkenny', 'kellswater', 'jail', 'irishmen', 'immortal', 'house', 'heavens', 'hearty', 'health', 'head', 'haste', 'hardly', 'hands', 'half', 'grey', 'grand', 'goin', 'gently', 'gentle', 'gardens', 'garden', 'friend', 'fresh', 'fray', 'form', 'foolish', 'fol', 'flower', 'floor', 'feel', 'farmers', 'farewell', 'fare', 'fairest', 'fainted', 'fade', 'entwine', 'english', 'else', 'duram', 'drop', 'drinking', 'drew', 'drawn', 'done', 'doesnt', 'divil', 'diemans', 'dhu', 'derry', 'deep', 'de', 'darlin', 'dance', 'crying', 'crown', 'cross', 'cot', 'consent', 'clothes', 'claret', 'children', 'child', 'change', 'captain', 'called', 'buy', 'brothers', 'broken', 'broad', 'bold', 'blow', 'bloom', 'bit', 'bird', 'better', 'beside', 'beneath', 'bell', 'believe', 'beg', 'bed', 'beating', 'bare', 'athy', 'athenry', 'arm', 'answered', 'aliveo', 'alive', 'after', 'yours', 'yonder', 'yeoman', 'writin', 'work', 'wore', 'words', 'word', 'woods', 'wonderful', 'woe', 'wives', 'winters', 'wings', 'wine', 'wife', 'whos', 'whispers', 'whenever', 'wheeled', 'whats', 'weeping', 'wee', 'weather', 'waves', 'walk', 'wailing', 'vow', 'voices', 'venture', 'unto', 'twill', 'truly', 'trod', 'trees', 'treasure', 'travel', 'trade', 'tower', 'tough', 'tom', 'toes', 'tipped', 'tiny', 'thrush', 'thru', 'threw', 'thoughts', 'thorn', 'things', 'thine', 'tay', 'table', 'swings', 'swinging', 'swim', 'swiftly', 'sweethearts', 'sweetheart', 'sweetest', 'sweeter', 'summertime', 'struggle', 'strong', 'strife', 'streets', 'strayed', 'stray', 'strangers', 'stranger', 'straight', 'story', 'storied', 'stone', 'stile', 'stealing', 'steal', 'started', 'springtime', 'springing', 'spirit', 'spins', 'spending', 'speak', 'south', 'sounds', 'sorrow', 'someone', 'softly', 'sober', 'snowwhite', 'smoke', 'small', 'slowly', 'slopes', 'slept', 'slavery', 'slaughter', 'sitting', 'shoulder', 'short', 'shook', 'shone', 'shoes', 'shine', 'shells', 'shelah', 'shapes', 'shamrock', 'seven', 'sets', 'sentence', 'sent', 'sends', 'send', 'satisfied', 'sash', 'sailor', 'sailing', 'sailed', 'runaway', 'rub', 'roof', 'roared', 'roam', 'river', 'rise', 'ringum', 'riches', 'ribbons', 'resemble', 'remember', 'remark', 'remain', 'reilly', 'reason', 'rare', 'rapier', 'rain', 'quay', 'prove', 'prisoner', 'prettiest', 'presence', 'power', 'potatoes', 'ponchartrain', 'pocket', 'plying', 'playing', 'places', 'pity', 'pipers', 'pipe', 'pike', 'phil', 'pepper', 'pass', 'parents', 'pain', 'paid', 'ours', 'opened', 'open', 'omalley', 'ofttimes', 'notes', 'north', 'noon', 'nights', 'ned', 'neck', 'naught', 'native', 'music', 'moving', 'move', 'mourne', 'morrow', 'mornin', 'moonlight', 'mooney', 'mooncoin', 'month', 'moment', 'moaning', 'mist', 'miss', 'merrily', 'mellow', 'meaning', 'meadows', 'meadow', 'mccann', 'mauser', 'martha', 'marry', 'marches', 'marched', 'mans', 'malone', 'making', 'main', 'lovd', 'lost', 'lofty', 'locks', 'lives', 'lines', 'lily', 'lilacs', 'lightly', 'liffey', 'letters', 'leaving', 'least', 'lead', 'lazy', 'lay', 'laugh', 'lattice', 'lass', 'lady', 'ladies', 'known', 'knocked', 'king', 'kilgary', 'kerry', 'kept', 'keeping', 'june', 'juice', 'joys', 'journey', 'jolly', 'john', 'jest', 'inside', 'hurroo', 'hurrah', 'honor', 'honey', 'holes', 'hell', 'held', 'heel', 'heavy', 'heavenward', 'heather', 'hearted', 'havent', 'hath', 'hat', 'hares', 'hanging', 'gun', 'guineas', 'grove', 'greet', 'grave', 'grandmother', 'gilgarra', 'ghosts', 'generation', 'gaze', 'gather', 'galway', 'gallon', 'gallant', 'full', 'frightened', 'friendly', 'freedom', 'fountain', 'forth', 'forced', 'foot', 'fondly', 'foemans', 'flows', 'flow', 'flashed', 'flag', 'five', 'fists', 'fingers', 'finger', 'fighting', 'fight', 'field', 'few', 'fever', 'fetters', 'felt', 'feeling', 'fearless', 'fate', 'fast', 'fairy', 'fairly', 'fairer', 'even', 'erins', 'enough', 'endless', 'empty', 'em', 'dust', 'dub', 'drums', 'drowsy', 'drown', 'drinkin', 'dressed', 'dreaming', 'dozen', 'dow', 'does', 'distance', 'dirty', 'dim', 'diggin', 'diamond', 'desolation', 'deliver', 'december', 'deceive', 'daylight', 'dawn', 'dark', 'dancers', 'damsel', 'dad', 'cursed', 'crystal', 'crossed', 'croppy', 'crooning', 'crew', 'creature', 'crazy', 'cousin', 'courting', 'courtin', 'courted', 'courage', 'countin', 'counter', 'cool', 'connaught', 'coming', 'comfort', 'coat', 'close', 'clearly', 'chieftains', 'charms', 'charming', 'chanced', 'chains', 'chain', 'cease', 'cavalry', 'caused', 'cats', 'carry', 'carrigfergus', 'carriages', 'cares', 'cabin', 'bush', 'buried', 'bundle', 'bunch', 'build', 'brown', 'brow', 'brother', 'broke', 'brings', 'bridgit', 'breaking', 'bravely', 'brand', 'boyne', 'bower', 'bottles', 'bore', 'boo', 'bonny', 'bone', 'body', 'blarney', 'blame', 'big', 'beware', 'between', 'belles', 'belfast', 'beguiled', 'begging', 'beggarman', 'beer', 'beaming', 'barrow', 'bann', 'banish', 'bad', 'awake', 'ask', 'arrived', 'aroon', 'approaching', 'appear', 'antrim', 'angels', 'among', 'albert', 'aisey', 'agin', 'adieu', 'zoo', 'youths', 'yon', 'yoke', 'yere', 'yer', 'yellow', 'yell', 'yearn', 'yearly', 'year', 'wrote', 'wrong', 'written', 'wrath', 'wrapped', 'wouldst', 'worsened', 'workin', 'wooden', 'wood', 'wonders', 'wondering', 'wobblin', 'within', 'withdraw', 'wit', 'wishing', 'wishful', 'wished', 'wisdom', 'wintry', 'winter', 'wink', 'winging', 'wines', 'windswept', 'windows', 'win', 'william', 'widout', 'whose', 'whom', 'wholl', 'whistle', 'whisperings', 'whispering', 'whisper', 'whisky', 'whirring', 'whirligig', 'whilst', 'wherever', 'wherein', 'wheels', 'wheelbarrow', 'wheat', 'whatever', 'wet', 'weirs', 'weep', 'weel', 'wealth', 'weak', 'waxes', 'waters', 'watching', 'wasnt', 'warrior', 'warning', 'ware', 'wan', 'walking', 'walkin', 'walked', 'waking', 'waken', 'waitin', 'waiters', 'wait', 'wains', 'wages', 'vowed', 'volunteers', 'vogue', 'visions', 'violin', 'village', 'vigil', 'views', 'victory', 'veteran', 'vessel', 'vermin', 'verdantly', 'verdant', 'venus', 'vengeance', 'variety', 'vanished', 'vale', 'vain', 'useless', 'upwards', 'unseen', 'unprofaned', 'unpaid', 'union', 'unfurled', 'underfoot', 'uncle', 'um', 'tyrant', 'twould', 'twisted', 'twist', 'twinkle', 'twined', 'twilight', 'turning', 'tuning', 'tuned', 'tumblin', 'tuam', 'try', 'trusty', 'trust', 'trudged', 'troubles', 'trinity', 'trial', 'treated', 'treat', 'treasures', 'treads', 'tread', 'travelled', 'travelians', 'traveled', 'transparently', 'train', 'trades', 'trace', 'townland', 'touch', 'tory', 'torn', 'top', 'tooryay', 'tooraloorali', 'toomebridge', 'toilworn', 'toast', 'tin', 'tightfisted', 'ties', 'tied', 'tie', 'tide', 'thundering', 'throw', 'throughout', 'throbbing', 'thinks', 'theyd', 'thems', 'thc', 'thayology', 'thank', 'thady', 'terrible', 'terrance', 'tenderest', 'tenants', 'tenant', 'tempest', 'tempered', 'temper', 'teasing', 'tease', 'teardrop', 'teacher', 'tea', 'tbe', 'taxes', 'tarry', 'taras', 'tapping', 'tap', 'tandy', 'talk', 'taking', 'tailor', 'tags', 'tabhair', 't', 'swell', 'sweeps', 'sweep', 'swearing', 'swear', 'swan', 'swamps', 'sustaining', 'surrendered', 'suppose', 'support', 'sunset', 'sunny', 'sunflower', 'sunbeam', 'sully', 'sulloon', 'suits', 'suffer', 'sudden', 'style', 'stupendous', 'stuff', 'stuck', 'strolling', 'stroll', 'strings', 'stretched', 'strength', 'streams', 'strangled', 'strangely', 'stranded', 'strand', 'strains', 'store', 'stony', 'stones', 'stirring', 'stewards', 'stern', 'steer', 'steel', 'stationed', 'starved', 'startin', 'start', 'stalwart', 'stainless', 'stagger', 'stack', 'stable', 'squeezed', 'square', 'squall', 'springs', 'sprightly', 'spreading', 'spotted', 'sportin', 'sport', 'spleen', 'spirits', 'spire', 'spinning', 'spied', 'sped', 'sparkling', 'sow', 'sovereigns', 'sounded', 'sort', 'sorry', 'sorrowful', 'sorely', 'soothed', 'sooner', 'somewhere', 'sometimes', 'something', 'someones', 'somebody', 'solemn', 'soldier', 'solace', 'soil', 'softest', 'sod', 'sociable', 'soars', 'soared', 'soar', 'snare', 'smother', 'smokey', 'smiles', 'smelled', 'smashed', 'slung', 'slipped', 'slip', 'slime', 'sligo', 'slight', 'slew', 'slave', 'slanderin', 'skreen', 'skip', 'skin', 'six', 'sits', 'sister', 'siren', 'sip', 'sinners', 'sink', 'single', 'simply', 'simple', 'silent', 'sights', 'sight', 'sighing', 'sigh', 'sick', 'sic', 'shy', 'shut', 'shrill', 'showrs', 'show', 'shoving', 'shoulders', 'shortly', 'shoot', 'shocking', 'shirts', 'shinin', 'shines', 'shillelagh', 'sheriff', 'shelter', 'sheilings', 'sheeps', 'sheep', 'sheen', 'shedding', 'shc', 'shawl', 'sharp', 'share', 'shannons', 'shannon', 'shalt', 'shakes', 'shake', 'shades', 'setting', 'serve', 'sentry', 'selling', 'sell', 'seldom', 'seems', 'seemd', 'seeking', 'seeing', 'seasons', 'seas', 'searching', 'scruff', 'scratch', 'score', 'scattered', 'scarcely', 'scarce', 'sayingkeep', 'saxon', 'satisfaction', 'sands', 'sanctified', 'saluted', 'salute', 'sake', 'sails', 'sailors', 'sail', 'safely', 'sacked', 'sack', 'saber', 'rusty', 'rust', 'rungum', 'runctions', 'rum', 'ruler', 'ruin', 'rude', 'ructions', 'ruby', 'rows', 'rowans', 'roved', 'rove', 'rough', 'rostrevor', 'ross', 'root', 'rolling', 'rollin', 'roll', 'rogue', 'roe', 'rode', 'rock', 'robin', 'robbing', 'robbin', 'rob', 'roaming', 'roamin', 'rink', 'ringin', 'rigs', 'rights', 'rig', 'riding', 'ride', 'revenge', 'revealing', 'returning', 'returned', 'returnd', 'rested', 'resound', 'resolved', 'required', 'reported', 'replied', 'renownd', 'renown', 'remorseless', 'reminded', 'remind', 'remarkable', 'regret', 'regard', 'reflections', 'reels', 'redeem', 'redcoat', 'receiver', 'recall', 'rebelled', 'rebel', 'reap', 'real', 'ready', 'reached', 'reach', 'ray', 'rattling', 'rattled', 'rats', 'rate', 'rat', 'rarely', 'ranting', 'ranks', 'rambling', 'rally', 'raked', 'raising', 'raindrops', 'railroad', 'rah', 'rags', 'rag', 'racking', 'rack', 'ra', 'quitely', 'quigley', 'queer', 'queen', 'quarters', 'quart', 'quality', 'puts', 'purse', 'purer', 'punch', 'pulled', 'pull', 'puff', 'prowling', 'provost', 'prouder', 'promised', 'prodigal', 'prince', 'primrose', 'prime', 'priests', 'pricked', 'preacher', 'prayers', 'praties', 'powrfulest', 'powr', 'powerful', 'poured', 'pound', 'pots', 'possessed', 'porter', 'polkas', 'politicians', 'policeman', 'poisoning', 'plundering', 'pluck', 'plow', 'plight', 'pleasures', 'pleasant', 'playboy', 'platform', 'placed', 'pistol', 'piper', 'pint', 'pillage', 'pikeplay', 'pigs', 'pig', 'piety', 'pie', 'picture', 'pianos', 'phelim', 'pheasants', 'phantom', 'peoples', 'penny', 'peggy', 'peeping', 'peeled', 'peek', 'peat', 'pearse', 'patricks', 'patrick', 'path', 'pate', 'pat', 'passion', 'passing', 'passes', 'passerby', 'passage', 'party', 'parted', 'parlour', 'parlay', 'pardon', 'palm', 'painted', 'paint', 'pains', 'painful', 'pail', 'paddys', 'owen', 'outspread', 'outside', 'others', 'onward', 'oneill', 'onaisy', 'oil', 'ogradys', 'oftimes', 'often', 'oft', 'offer', 'odonnell', 'odds', 'odd', 'odaly', 'october', 'oconnell', 'oats', 'oak', 'numbers', 'numbered', 'note', 'nonsensical', 'nonsense', 'nolans', 'noiselessly', 'noiseless', 'noise', 'nlyme', 'nigh', 'news', 'newborn', 'nelly', 'neighbors', 'needs', 'need', 'neath', 'nearly', 'neagh', 'nature', 'napper', 'n', 'm�r', 'mythology', 'myrtle', 'mussels', 'murther', 'murray', 'munroe', 'mullingar', 'moves', 'moved', 'mourn', 'mounted', 'motion', 'moth', 'morgan', 'moor', 'moonshiny', 'moons', 'mollys', 'modestly', 'mither', 'mistaken', 'misfortune', 'minute', 'mingling', 'milliner', 'milking', 'miles', 'mild', 'midst', 'mermaids', 'melting', 'melody', 'melodious', 'meeting', 'meelia', 'meal', 'mchugh', 'mcgilligan', 'mccree', 'mccarthy', 'mcbryde', 'mavrone', 'matters', 'mash', 'marks', 'market', 'margin', 'marching', 'marchin', 'march', 'marble', 'manys', 'mantle', 'mallowwater', 'majestic', 'mairis', 'maintain', 'mainsails', 'maids', 'maidens', 'magee', 'mad', 'machine', 'macdonagh', 'macdiarmada', 'lámh', 'lying', 'lusty', 'lure', 'lullaby', 'luck', 'lucan', 'lrelands', 'lowly', 'lovers', 'loveliness', 'lough', 'lot', 'loss', 'losing', 'loses', 'lose', 'looks', 'longs', 'longing', 'londons', 'london', 'logic', 'loch', 'locality', 'loaded', 'load', 'living', 'liverpool', 'lived', 'listening', 'listen', 'liquor', 'lions', 'linnets', 'linnet', 'links', 'lingers', 'limbs', 'lilywhite', 'lilting', 'lilt', 'lilies', 'likewise', 'likes', 'lifting', 'lift', 'lick', 'lets', 'leisure', 'legs', 'leggins', 'learning', 'learnin', 'learn', 'leaps', 'leap', 'leaning', 'leaned', 'leane', 'ld', 'lazily', 'lays', 'laws', 'lave', 'laughters', 'laughtcr', 'laughs', 'laughing', 'laughd', 'latinity', 'lassies', 'lasses', 'lashings', 'larks', 'lanigan', 'lane', 'landlord', 'landladys', 'landlady', 'lamp', 'lamenting', 'lambs', 'lakes', 'laity', 'lack', 'knows', 'knowing', 'knock', 'knitting', 'kneel', 'kissd', 'kinds', 'kindliest', 'kilrush', 'killarneys', 'kilkee', 'kicked', 'khaki', 'kerrigan', 'keen', 'jury', 'jumped', 'july', 'julia', 'judy', 'joyous', 'jovial', 'jollity', 'joking', 'joined', 'join', 'jigs', 'jig', 'jewels', 'jeremy', 'jar', 'james', 'jailer', 'ivy', 'iull', 'itself', 'island', 'iron', 'irelands', 'invitation', 'introduction', 'instead', 'innocent', 'ink', 'inheritance', 'indies', 'indeed', 'impropriety', 'iii', 'hushed', 'hush', 'hurray', 'hurley', 'hurled', 'hunt', 'hung', 'hummin', 'humble', 'hullabaloo', 'huff', 'hows', 'hover', 'hour', 'host', 'hosannahs', 'horses', 'horror', 'hoping', 'hopeless', 'hoops', 'honest', 'homeward', 'homes', 'holyhead', 'holy', 'hollybush', 'hole', 'holds', 'hold', 'hogshead', 'hobble', 'hit', 'hired', 'hillways', 'hiii', 'higher', 'hid', 'herring', 'hemprope', 'help', 'hello', 'heed', 'heaven', 'heavem', 'heaved', 'heartfrom', 'having', 'haunt', 'hats', 'harmony', 'harm', 'hark', 'hare', 'hardship', 'harbour', 'happiness', 'happened', 'hapless', 'hall', 'halfway', 'haired', 'hail', 'hadnt', 'hades', 'guril', 'guinea', 'guide', 'guff', 'guards', 'guardian', 'guardhouse', 'guard', 'gruff', 'growin', 'groves', 'groups', 'grim', 'grieve', 'grew', 'greek', 'gray', 'graveyard', 'granted', 'grant', 'grandest', 'graceful', 'gowns', 'gown', 'gorey', 'goods', 'goodmorrow', 'goodbye', 'goggles', 'goblins', 'glow', 'glossy', 'glory', 'gloom', 'glisten', 'glimpse', 'glens', 'gleam', 'glance', 'glamour', 'gladness', 'glad', 'gives', 'girded', 'gifts', 'ghost', 'getting', 'gets', 'gesture', 'genie', 'gem', 'gear', 'gazed', 'gathers', 'gathered', 'gate', 'gasworks', 'gas', 'gangs', 'games', 'gain', 'gaily', 'gaiety', 'gad', 'future', 'further', 'furious', 'funds', 'fulfill', 'fuel', 'frivolity', 'frisky', 'frightning', 'frighten', 'fright', 'frequent', 'freebirds', 'frame', 'fragrance', 'fourth', 'fortythree', 'forgot', 'forgiveness', 'forgive', 'forgets', 'foreign', 'forefathers', 'fore', 'forbid', 'foots', 'footmen', 'fool', 'followed', 'follow', 'follol', 'folk', 'foldediddleday', 'foldediddle', 'foe', 'foaming', 'foam', 'flying', 'flute', 'flowr', 'flowing', 'flood', 'flock', 'flew', 'flesh', 'fleetfoot', 'fleet', 'fled', 'flaxen', 'flavours', 'flapping', 'flame', 'fixed', 'fishmonger', 'fishing', 'fishin', 'fishers', 'fireside', 'firelights', 'finnertys', 'finea', 'fills', 'filled', 'fifty', 'fierce', 'fiddlin', 'fiddles', 'fiddlers', 'fervor', 'ferry', 'fellow', 'feels', 'feegee', 'feeble', 'fears', 'faster', 'fashions', 'fashioned', 'fashion', 'farthing', 'farmstead', 'farming', 'farm', 'famous', 'famine', 'fame', 'falter', 'false', 'falls', 'falling', 'faithful', 'faith', 'fail', 'fading', 'fades', 'faded', 'factory', 'faces', 'expressed', 'expire', 'everywhere', 'everybody', 'escape', 'ere', 'equality', 'enthralled', 'entangled', 'enquiring', 'enlisted', 'enjoy', 'englishmen', 'englands', 'engaging', 'energy', 'enemy', 'enemies', 'ended', 'endearing', 'encumbered', 'enchanting', 'enchanted', 'enamour', 'emigrants', 'embarrass', 'elf', 'elevations', 'elation', 'eily', 'eight', 'egg', 'edward', 'eden', 'echo', 'eat', 'easter', 'east', 'easily', 'earthly', 'earth', 'earnest', 'dwelling', 'dwell', 'duns', 'dudeen', 'dublins', 'du', 'drunk', 'drumslieve', 'drubbing', 'drowsily', 'drove', 'dropped', 'drives', 'dripping', 'drifting', 'dresses', 'dress', 'dreamt', 'dreamed', 'draw', 'drank', 'drain', 'downfall', 'doves', 'dove', 'doubts', 'doodle', 'donegal', 'dom', 'doleful', 'dolans', 'doing', 'dogs', 'docks', 'divinity', 'divils', 'ditty', 'distressful', 'distant', 'disquieted', 'dismay', 'dire', 'dinner', 'din', 'dime', 'dignity', 'dig', 'diamonds', 'dewy', 'devonshire', 'devils', 'destroy', 'destiny', 'desperate', 'desire', 'designed', 'deprived', 'deny', 'deludhering', 'delirium', 'defend', 'deepest', 'declining', 'declared', 'deceiver', 'dearly', 'daughters', 'date', 'darkning', 'dare', 'danger', 'danes', 'damer', 'dale', 'daisy', 'dairie', 'daddyo', 'daddy', 'dadda', 'dada', 'd', 'c�ta', 'cut', 'customer', 'custom', 'cursing', 'curses', 'currabawn', 'curious', 'cure', 'crowds', 'crowded', 'crow', 'crossroads', 'crossings', 'croft', 'cries', 'cried', 'creeping', 'creel', 'creeds', 'credit', 'cream', 'craw', 'cozy', 'cow', 'covers', 'covered', 'courtesy', 'courteous', 'court', 'course', 'couples', 'couple', 'countrie', 'counting', 'counted', 'couldnt', 'cottage', 'cornwall', 'corner', 'cork', 'cootehill', 'coolin', 'coo', 'conversations', 'control', 'contented', 'consumed', 'constant', 'consolation', 'connolly', 'connemara', 'confess', 'conchology', 'complexions', 'compare', 'company', 'companions', 'command', 'comicality', 'comb', 'colour', 'colors', 'collar', 'coins', 'coffee', 'cockles', 'cockle', 'cock', 'coaxing', 'coaxin', 'coast', 'coalblack', 'clyde', 'clung', 'clumsy', 'clouds', 'clouded', 'cloud', 'closet', 'cloak', 'climb', 'climate', 'clergy', 'cleared', 'clay', 'clark', 'clare', 'claim', 'church', 'christmas', 'chords', 'chop', 'choose', 'chocolate', 'cho', 'chirping', 'childhood', 'childer', 'chickenless', 'cherry', 'cheerily', 'cheer', 'cheek', 'checking', 'charmin', 'charges', 'chara', 'chanting', 'chanters', 'changing', 'changeless', 'chaneys', 'chance', 'chamber', 'chair', 'ceiling', 'ceannt', 'caught', 'caubeen', 'cattle', 'catchers', 'catch', 'castles', 'cask', 'casement', 'case', 'carried', 'carmody', 'caress', 'career', 'captive', 'cap', 'cans', 'canal', 'calls', 'california', 'calico', 'cakes', 'buttoned', 'butcher', 'bullet', 'bulging', 'bubbling', 'bubblin', 'bu', 'brooks', 'brogues', 'brogue', 'britches', 'brightly', 'brightest', 'bridle', 'brian', 'breeze', 'breathes', 'breaks', 'bread', 'bravry', 'bravery', 'bran', 'brain', 'braes', 'bracken', 'boyhood', 'bowlin', 'bowl', 'bowed', 'bouys', 'boundless', 'bounding', 'bould', 'bought', 'bough', 'bottle', 'bothered', 'botany', 'bosom', 'borne', 'boreen', 'boots', 'boot', 'bonnet', 'boneless', 'bondage', 'bond', 'bollin', 'boldly', 'boil', 'bogs', 'boatsman', 'boat', 'board', 'bluff', 'blows', 'blouse', 'bloomed', 'blithe', 'blind', 'blight', 'blessing', 'bleak', 'blaze', 'blast', 'blades', 'blackwater', 'blackbird', 'blackamoor', 'bishop', 'bide', 'bidding', 'beyond', 'betrays', 'betray', 'besides', 'benburb', 'below', 'bellows', 'belling', 'beguile', 'begotten', 'beginning', 'begin', 'begged', 'befall', 'bees', 'bee', 'bedim', 'beauing', 'beat', 'beam', 'battleshield', 'battle', 'battered', 'bath', 'basin', 'barrin', 'barney', 'barn', 'bard', 'bar', 'bantry', 'banter', 'banner', 'bank', 'banished', 'banbridge', 'ban', 'ballygrant', 'bairns', 'bailiffs', 'bag', 'bade', 'bacon', 'bacchus', 'babys', 'baby', 'babies', 'babes', 'axe', 'awritin', 'awoke', 'awhile', 'awalkin', 'awakened', 'awaken', 'awaitin', 'avoidin', 'avick', 'ave', 'autumn', 'australia', 'attend', 'asunder', 'assisted', 'assembled', 'asleep', 'array', 'arose', 'arollin', 'army', 'armless', 'apron', 'apprenticed', 'apple', 'anguish', 'anger', 'anchor', 'amilking', 'amid', 'amiable', 'although', 'also', 'aloft', 'almost', 'almanack', 'allegators', 'alladin', 'alehouse', 'aisy', 'airy', 'ahuggin', 'agree', 'agoin', 'african', 'afraid', 'affray', 'afford', 'affection', 'advance', 'adored', 'adoration', 'admiration', 'addle', 'add', 'acres', 'aching', 'ache', 'accident', 'acame', 'academy', 'abusing', 'about', 'aboard', 'abandon', '23rd', '1803']\n",
      "2704\n"
     ]
    }
   ],
   "source": [
    "# Get the vocabulary and its size\n",
    "vocabulary = vectorize_layer.get_vocabulary()\n",
    "vocab_size = len(vocabulary)\n",
    "\n",
    "print(f'{vocabulary}')\n",
    "print(f'{vocab_size}')"
   ]
  },
  {
   "cell_type": "markdown",
   "metadata": {
    "id": "JK29FzZ7QW-4"
   },
   "source": [
    "## Preprocessing the Dataset\n",
    "\n",
    "Next, you will generate the inputs and labels for your model. The process will be identical to the previous lab. The `xs` or inputs to the model will be padded sequences, while the `ys` or labels are one-hot encoded arrays."
   ]
  },
  {
   "cell_type": "code",
   "execution_count": 6,
   "metadata": {
    "id": "soPGVheskaQP"
   },
   "outputs": [],
   "source": [
    "# Initialize the sequences list\n",
    "input_sequences = []\n",
    "\n",
    "# Loop over every line\n",
    "for line in corpus:\n",
    "\n",
    "\t# Generate the integer sequence of the current line\n",
    "\tsequence = vectorize_layer(line).numpy()\n",
    "\n",
    "\t# Loop over the line several times to generate the subphrases\n",
    "\tfor i in range(1, len(sequence)):\n",
    "\n",
    "\t\t# Generate the subphrase\n",
    "\t\tn_gram_sequence = sequence[:i+1]\n",
    "\n",
    "\t\t# Append the subphrase to the sequences list\n",
    "\t\tinput_sequences.append(n_gram_sequence)\n",
    "\n",
    "# Get the length of the longest line\n",
    "max_sequence_len = max([len(x) for x in input_sequences])\n",
    "\n",
    "# Pad all sequences\n",
    "input_sequences = np.array(tf.keras.utils.pad_sequences(input_sequences, maxlen=max_sequence_len, padding='pre'))\n",
    "\n",
    "# Create inputs and label by splitting the last token in the subphrases\n",
    "xs, labels = input_sequences[:,:-1],input_sequences[:,-1]\n",
    "\n",
    "# Convert the label into one-hot arrays\n",
    "ys = tf.keras.utils.to_categorical(labels, num_classes=vocab_size)"
   ]
  },
  {
   "cell_type": "markdown",
   "metadata": {
    "id": "TmWHCO0dQGlZ"
   },
   "source": [
    "You can then print some of the examples as a sanity check."
   ]
  },
  {
   "cell_type": "code",
   "execution_count": 7,
   "metadata": {
    "id": "pJtwVB2NbOAP"
   },
   "outputs": [
    {
     "name": "stdout",
     "output_type": "stream",
     "text": [
      "sample sentence: ['come', 'all', 'ye', 'maidens', 'young', 'and', 'fair']\n",
      "[55, 13, 96, 1886, 49, 3, 71]\n"
     ]
    }
   ],
   "source": [
    "# Get sample sentence\n",
    "sentence = corpus[0].split()\n",
    "print(f'sample sentence: {sentence}')\n",
    "\n",
    "# Initialize token list\n",
    "token_list = []\n",
    "\n",
    "# Look up the indices of each word and append to the list\n",
    "for word in sentence:\n",
    "  token_list.append(vocabulary.index(word))\n",
    "\n",
    "# Print the token list\n",
    "print(token_list)"
   ]
  },
  {
   "cell_type": "code",
   "execution_count": 8,
   "metadata": {
    "id": "etXdbu-l2mxD"
   },
   "outputs": [],
   "source": [
    "def sequence_to_text(sequence, vocabulary):\n",
    "  '''utility to convert integer sequence back to text'''\n",
    "\n",
    "  # Loop through the integer sequence and look up the word from the vocabulary\n",
    "  words = [vocabulary[index] for index in sequence]\n",
    "\n",
    "  # Combine the words into one sentence\n",
    "  text = tf.strings.reduce_join(words, separator=' ').numpy().decode()\n",
    "\n",
    "  return text"
   ]
  },
  {
   "cell_type": "code",
   "execution_count": 9,
   "metadata": {
    "id": "lMr6kKfzROlW"
   },
   "outputs": [
    {
     "name": "stdout",
     "output_type": "stream",
     "text": [
      "token list: [   0    0    0    0    0    0    0    0    0   55   13   96 1886   49\n",
      "    3]\n",
      "decoded to text:          come all ye maidens young and\n",
      "one-hot label: [0. 0. 0. ... 0. 0. 0.]\n",
      "index of label: 71\n"
     ]
    }
   ],
   "source": [
    "# Pick element\n",
    "elem_number = 5\n",
    "\n",
    "# Print token list and phrase\n",
    "print(f'token list: {xs[elem_number]}')\n",
    "print(f'decoded to text: {sequence_to_text(xs[elem_number], vocabulary)}')\n",
    "\n",
    "# Print label\n",
    "print(f'one-hot label: {ys[elem_number]}')\n",
    "print(f'index of label: {np.argmax(ys[elem_number])}')"
   ]
  },
  {
   "cell_type": "code",
   "execution_count": 10,
   "metadata": {
    "id": "49Cv68JOakwv"
   },
   "outputs": [
    {
     "name": "stdout",
     "output_type": "stream",
     "text": [
      "token list: [   0    0    0    0    0    0    0    0    0    0   55   13   96 1886\n",
      "   49]\n",
      "decoded to text:           come all ye maidens young\n",
      "one-hot label: [0. 0. 0. ... 0. 0. 0.]\n",
      "index of label: 3\n"
     ]
    }
   ],
   "source": [
    "# Pick element\n",
    "elem_number = 4\n",
    "\n",
    "# Print token list and phrase\n",
    "print(f'token list: {xs[elem_number]}')\n",
    "print(f'decoded to text: {sequence_to_text(xs[elem_number], vocabulary)}')\n",
    "\n",
    "# Print label\n",
    "print(f'one-hot label: {ys[elem_number]}')\n",
    "print(f'index of label: {np.argmax(ys[elem_number])}')"
   ]
  },
  {
   "cell_type": "markdown",
   "metadata": {},
   "source": [
    "Lastly, since this is a larger dataset, you can use the tf.data API to speed up the training."
   ]
  },
  {
   "cell_type": "code",
   "execution_count": 11,
   "metadata": {},
   "outputs": [],
   "source": [
    "PREFETCH_BUFFER_SIZE = tf.data.AUTOTUNE\n",
    "BATCH_SIZE = 32\n",
    "\n",
    "# Put the inputs and labels to a tf.data.Dataset\n",
    "dataset = tf.data.Dataset.from_tensor_slices((xs,ys))\n",
    "\n",
    "# Optimize the dataset for training\n",
    "dataset = dataset.cache().prefetch(PREFETCH_BUFFER_SIZE).batch(BATCH_SIZE)"
   ]
  },
  {
   "cell_type": "markdown",
   "metadata": {
    "id": "VKWWUZm5VPG9"
   },
   "source": [
    "## Build and compile the Model\n",
    "\n",
    "Next, you will build and compile the model. We placed some of the hyperparameters at the top of the code cell so you can easily tweak it later if you want."
   ]
  },
  {
   "cell_type": "code",
   "execution_count": 12,
   "metadata": {
    "id": "w9vH8Y59ajYL"
   },
   "outputs": [
    {
     "data": {
      "text/html": [
       "<pre style=\"white-space:pre;overflow-x:auto;line-height:normal;font-family:Menlo,'DejaVu Sans Mono',consolas,'Courier New',monospace\"><span style=\"font-weight: bold\">Model: \"sequential\"</span>\n",
       "</pre>\n"
      ],
      "text/plain": [
       "\u001b[1mModel: \"sequential\"\u001b[0m\n"
      ]
     },
     "metadata": {},
     "output_type": "display_data"
    },
    {
     "data": {
      "text/html": [
       "<pre style=\"white-space:pre;overflow-x:auto;line-height:normal;font-family:Menlo,'DejaVu Sans Mono',consolas,'Courier New',monospace\">┏━━━━━━━━━━━━━━━━━━━━━━━━━━━━━━━━━┳━━━━━━━━━━━━━━━━━━━━━━━━┳━━━━━━━━━━━━━━━┓\n",
       "┃<span style=\"font-weight: bold\"> Layer (type)                    </span>┃<span style=\"font-weight: bold\"> Output Shape           </span>┃<span style=\"font-weight: bold\">       Param # </span>┃\n",
       "┡━━━━━━━━━━━━━━━━━━━━━━━━━━━━━━━━━╇━━━━━━━━━━━━━━━━━━━━━━━━╇━━━━━━━━━━━━━━━┩\n",
       "│ embedding (<span style=\"color: #0087ff; text-decoration-color: #0087ff\">Embedding</span>)           │ (<span style=\"color: #00d7ff; text-decoration-color: #00d7ff\">None</span>, <span style=\"color: #00af00; text-decoration-color: #00af00\">15</span>, <span style=\"color: #00af00; text-decoration-color: #00af00\">100</span>)        │       <span style=\"color: #00af00; text-decoration-color: #00af00\">270,400</span> │\n",
       "├─────────────────────────────────┼────────────────────────┼───────────────┤\n",
       "│ bidirectional (<span style=\"color: #0087ff; text-decoration-color: #0087ff\">Bidirectional</span>)   │ (<span style=\"color: #00d7ff; text-decoration-color: #00d7ff\">None</span>, <span style=\"color: #00af00; text-decoration-color: #00af00\">300</span>)            │       <span style=\"color: #00af00; text-decoration-color: #00af00\">301,200</span> │\n",
       "├─────────────────────────────────┼────────────────────────┼───────────────┤\n",
       "│ dense (<span style=\"color: #0087ff; text-decoration-color: #0087ff\">Dense</span>)                   │ (<span style=\"color: #00d7ff; text-decoration-color: #00d7ff\">None</span>, <span style=\"color: #00af00; text-decoration-color: #00af00\">2704</span>)           │       <span style=\"color: #00af00; text-decoration-color: #00af00\">813,904</span> │\n",
       "└─────────────────────────────────┴────────────────────────┴───────────────┘\n",
       "</pre>\n"
      ],
      "text/plain": [
       "┏━━━━━━━━━━━━━━━━━━━━━━━━━━━━━━━━━┳━━━━━━━━━━━━━━━━━━━━━━━━┳━━━━━━━━━━━━━━━┓\n",
       "┃\u001b[1m \u001b[0m\u001b[1mLayer (type)                   \u001b[0m\u001b[1m \u001b[0m┃\u001b[1m \u001b[0m\u001b[1mOutput Shape          \u001b[0m\u001b[1m \u001b[0m┃\u001b[1m \u001b[0m\u001b[1m      Param #\u001b[0m\u001b[1m \u001b[0m┃\n",
       "┡━━━━━━━━━━━━━━━━━━━━━━━━━━━━━━━━━╇━━━━━━━━━━━━━━━━━━━━━━━━╇━━━━━━━━━━━━━━━┩\n",
       "│ embedding (\u001b[38;5;33mEmbedding\u001b[0m)           │ (\u001b[38;5;45mNone\u001b[0m, \u001b[38;5;34m15\u001b[0m, \u001b[38;5;34m100\u001b[0m)        │       \u001b[38;5;34m270,400\u001b[0m │\n",
       "├─────────────────────────────────┼────────────────────────┼───────────────┤\n",
       "│ bidirectional (\u001b[38;5;33mBidirectional\u001b[0m)   │ (\u001b[38;5;45mNone\u001b[0m, \u001b[38;5;34m300\u001b[0m)            │       \u001b[38;5;34m301,200\u001b[0m │\n",
       "├─────────────────────────────────┼────────────────────────┼───────────────┤\n",
       "│ dense (\u001b[38;5;33mDense\u001b[0m)                   │ (\u001b[38;5;45mNone\u001b[0m, \u001b[38;5;34m2704\u001b[0m)           │       \u001b[38;5;34m813,904\u001b[0m │\n",
       "└─────────────────────────────────┴────────────────────────┴───────────────┘\n"
      ]
     },
     "metadata": {},
     "output_type": "display_data"
    },
    {
     "data": {
      "text/html": [
       "<pre style=\"white-space:pre;overflow-x:auto;line-height:normal;font-family:Menlo,'DejaVu Sans Mono',consolas,'Courier New',monospace\"><span style=\"font-weight: bold\"> Total params: </span><span style=\"color: #00af00; text-decoration-color: #00af00\">1,385,504</span> (5.29 MB)\n",
       "</pre>\n"
      ],
      "text/plain": [
       "\u001b[1m Total params: \u001b[0m\u001b[38;5;34m1,385,504\u001b[0m (5.29 MB)\n"
      ]
     },
     "metadata": {},
     "output_type": "display_data"
    },
    {
     "data": {
      "text/html": [
       "<pre style=\"white-space:pre;overflow-x:auto;line-height:normal;font-family:Menlo,'DejaVu Sans Mono',consolas,'Courier New',monospace\"><span style=\"font-weight: bold\"> Trainable params: </span><span style=\"color: #00af00; text-decoration-color: #00af00\">1,385,504</span> (5.29 MB)\n",
       "</pre>\n"
      ],
      "text/plain": [
       "\u001b[1m Trainable params: \u001b[0m\u001b[38;5;34m1,385,504\u001b[0m (5.29 MB)\n"
      ]
     },
     "metadata": {},
     "output_type": "display_data"
    },
    {
     "data": {
      "text/html": [
       "<pre style=\"white-space:pre;overflow-x:auto;line-height:normal;font-family:Menlo,'DejaVu Sans Mono',consolas,'Courier New',monospace\"><span style=\"font-weight: bold\"> Non-trainable params: </span><span style=\"color: #00af00; text-decoration-color: #00af00\">0</span> (0.00 B)\n",
       "</pre>\n"
      ],
      "text/plain": [
       "\u001b[1m Non-trainable params: \u001b[0m\u001b[38;5;34m0\u001b[0m (0.00 B)\n"
      ]
     },
     "metadata": {},
     "output_type": "display_data"
    }
   ],
   "source": [
    "# Parameters\n",
    "embedding_dim = 100\n",
    "lstm_units = 150\n",
    "learning_rate = 0.01\n",
    "\n",
    "# Build the model\n",
    "model = tf.keras.models.Sequential([\n",
    "            tf.keras.Input(shape=(max_sequence_len-1,)),\n",
    "            tf.keras.layers.Embedding(vocab_size, embedding_dim),\n",
    "            tf.keras.layers.Bidirectional(tf.keras.layers.LSTM(lstm_units)),\n",
    "            tf.keras.layers.Dense(vocab_size, activation='softmax')\n",
    "])\n",
    "\n",
    "# Use categorical crossentropy because this is a multi-class problem\n",
    "model.compile(\n",
    "    loss='categorical_crossentropy',\n",
    "    optimizer=tf.keras.optimizers.Adam(learning_rate=learning_rate),\n",
    "    metrics=['accuracy']\n",
    "    )\n",
    "\n",
    "# Print the model summary\n",
    "model.summary()"
   ]
  },
  {
   "cell_type": "markdown",
   "metadata": {
    "id": "OpI0d9cfR43c"
   },
   "source": [
    "## Train the model\n",
    "\n",
    "From the model summary above, you'll notice that the number of trainable params is much larger than the one in the previous lab. Consequently, that usually means a slower training time. It will take roughly 7 seconds per epoch with the GPU enabled in Colab and you'll reach around 76% accuracy after 100 epochs."
   ]
  },
  {
   "cell_type": "code",
   "execution_count": 13,
   "metadata": {
    "id": "Nc4zC7C4jJpN",
    "scrolled": true
   },
   "outputs": [
    {
     "name": "stdout",
     "output_type": "stream",
     "text": [
      "Epoch 1/100\n"
     ]
    },
    {
     "name": "stderr",
     "output_type": "stream",
     "text": [
      "2024-10-09 14:13:35.108871: I external/local_xla/xla/stream_executor/cuda/cuda_dnn.cc:531] Loaded cuDNN version 8907\n"
     ]
    },
    {
     "name": "stdout",
     "output_type": "stream",
     "text": [
      "\u001b[1m375/375\u001b[0m \u001b[32m━━━━━━━━━━━━━━━━━━━━\u001b[0m\u001b[37m\u001b[0m \u001b[1m8s\u001b[0m 16ms/step - accuracy: 0.0589 - loss: 6.9142\n",
      "Epoch 2/100\n",
      "\u001b[1m375/375\u001b[0m \u001b[32m━━━━━━━━━━━━━━━━━━━━\u001b[0m\u001b[37m\u001b[0m \u001b[1m6s\u001b[0m 16ms/step - accuracy: 0.0831 - loss: 6.3383\n",
      "Epoch 3/100\n",
      "\u001b[1m375/375\u001b[0m \u001b[32m━━━━━━━━━━━━━━━━━━━━\u001b[0m\u001b[37m\u001b[0m \u001b[1m6s\u001b[0m 17ms/step - accuracy: 0.1029 - loss: 5.6268\n",
      "Epoch 4/100\n",
      "\u001b[1m375/375\u001b[0m \u001b[32m━━━━━━━━━━━━━━━━━━━━\u001b[0m\u001b[37m\u001b[0m \u001b[1m6s\u001b[0m 16ms/step - accuracy: 0.1135 - loss: 6.4179\n",
      "Epoch 5/100\n",
      "\u001b[1m375/375\u001b[0m \u001b[32m━━━━━━━━━━━━━━━━━━━━\u001b[0m\u001b[37m\u001b[0m \u001b[1m5s\u001b[0m 14ms/step - accuracy: 0.1344 - loss: 5.4814\n",
      "Epoch 6/100\n",
      "\u001b[1m375/375\u001b[0m \u001b[32m━━━━━━━━━━━━━━━━━━━━\u001b[0m\u001b[37m\u001b[0m \u001b[1m5s\u001b[0m 14ms/step - accuracy: 0.1660 - loss: 4.7778\n",
      "Epoch 7/100\n",
      "\u001b[1m375/375\u001b[0m \u001b[32m━━━━━━━━━━━━━━━━━━━━\u001b[0m\u001b[37m\u001b[0m \u001b[1m6s\u001b[0m 15ms/step - accuracy: 0.2147 - loss: 4.1757\n",
      "Epoch 8/100\n",
      "\u001b[1m375/375\u001b[0m \u001b[32m━━━━━━━━━━━━━━━━━━━━\u001b[0m\u001b[37m\u001b[0m \u001b[1m5s\u001b[0m 14ms/step - accuracy: 0.2794 - loss: 3.5727\n",
      "Epoch 9/100\n",
      "\u001b[1m375/375\u001b[0m \u001b[32m━━━━━━━━━━━━━━━━━━━━\u001b[0m\u001b[37m\u001b[0m \u001b[1m5s\u001b[0m 14ms/step - accuracy: 0.3517 - loss: 3.0035\n",
      "Epoch 10/100\n",
      "\u001b[1m375/375\u001b[0m \u001b[32m━━━━━━━━━━━━━━━━━━━━\u001b[0m\u001b[37m\u001b[0m \u001b[1m5s\u001b[0m 14ms/step - accuracy: 0.4130 - loss: 2.5946\n",
      "Epoch 11/100\n",
      "\u001b[1m375/375\u001b[0m \u001b[32m━━━━━━━━━━━━━━━━━━━━\u001b[0m\u001b[37m\u001b[0m \u001b[1m5s\u001b[0m 12ms/step - accuracy: 0.4428 - loss: 2.4393\n",
      "Epoch 12/100\n",
      "\u001b[1m375/375\u001b[0m \u001b[32m━━━━━━━━━━━━━━━━━━━━\u001b[0m\u001b[37m\u001b[0m \u001b[1m5s\u001b[0m 14ms/step - accuracy: 0.4802 - loss: 2.1931\n",
      "Epoch 13/100\n",
      "\u001b[1m375/375\u001b[0m \u001b[32m━━━━━━━━━━━━━━━━━━━━\u001b[0m\u001b[37m\u001b[0m \u001b[1m5s\u001b[0m 14ms/step - accuracy: 0.5427 - loss: 1.9388\n",
      "Epoch 14/100\n",
      "\u001b[1m375/375\u001b[0m \u001b[32m━━━━━━━━━━━━━━━━━━━━\u001b[0m\u001b[37m\u001b[0m \u001b[1m5s\u001b[0m 14ms/step - accuracy: 0.5698 - loss: 1.7935\n",
      "Epoch 15/100\n",
      "\u001b[1m375/375\u001b[0m \u001b[32m━━━━━━━━━━━━━━━━━━━━\u001b[0m\u001b[37m\u001b[0m \u001b[1m5s\u001b[0m 14ms/step - accuracy: 0.5679 - loss: 1.8171\n",
      "Epoch 16/100\n",
      "\u001b[1m375/375\u001b[0m \u001b[32m━━━━━━━━━━━━━━━━━━━━\u001b[0m\u001b[37m\u001b[0m \u001b[1m5s\u001b[0m 14ms/step - accuracy: 0.5800 - loss: 1.7700\n",
      "Epoch 17/100\n",
      "\u001b[1m375/375\u001b[0m \u001b[32m━━━━━━━━━━━━━━━━━━━━\u001b[0m\u001b[37m\u001b[0m \u001b[1m5s\u001b[0m 12ms/step - accuracy: 0.5943 - loss: 1.6621\n",
      "Epoch 18/100\n",
      "\u001b[1m375/375\u001b[0m \u001b[32m━━━━━━━━━━━━━━━━━━━━\u001b[0m\u001b[37m\u001b[0m \u001b[1m5s\u001b[0m 14ms/step - accuracy: 0.6238 - loss: 1.5144\n",
      "Epoch 19/100\n",
      "\u001b[1m375/375\u001b[0m \u001b[32m━━━━━━━━━━━━━━━━━━━━\u001b[0m\u001b[37m\u001b[0m \u001b[1m5s\u001b[0m 14ms/step - accuracy: 0.6297 - loss: 1.4693\n",
      "Epoch 20/100\n",
      "\u001b[1m375/375\u001b[0m \u001b[32m━━━━━━━━━━━━━━━━━━━━\u001b[0m\u001b[37m\u001b[0m \u001b[1m5s\u001b[0m 13ms/step - accuracy: 0.6383 - loss: 1.4785\n",
      "Epoch 21/100\n",
      "\u001b[1m375/375\u001b[0m \u001b[32m━━━━━━━━━━━━━━━━━━━━\u001b[0m\u001b[37m\u001b[0m \u001b[1m5s\u001b[0m 13ms/step - accuracy: 0.6412 - loss: 1.4682\n",
      "Epoch 22/100\n",
      "\u001b[1m375/375\u001b[0m \u001b[32m━━━━━━━━━━━━━━━━━━━━\u001b[0m\u001b[37m\u001b[0m \u001b[1m5s\u001b[0m 14ms/step - accuracy: 0.6525 - loss: 1.4255\n",
      "Epoch 23/100\n",
      "\u001b[1m375/375\u001b[0m \u001b[32m━━━━━━━━━━━━━━━━━━━━\u001b[0m\u001b[37m\u001b[0m \u001b[1m5s\u001b[0m 14ms/step - accuracy: 0.6648 - loss: 1.4025\n",
      "Epoch 24/100\n",
      "\u001b[1m375/375\u001b[0m \u001b[32m━━━━━━━━━━━━━━━━━━━━\u001b[0m\u001b[37m\u001b[0m \u001b[1m5s\u001b[0m 12ms/step - accuracy: 0.6410 - loss: 1.5610\n",
      "Epoch 25/100\n",
      "\u001b[1m375/375\u001b[0m \u001b[32m━━━━━━━━━━━━━━━━━━━━\u001b[0m\u001b[37m\u001b[0m \u001b[1m5s\u001b[0m 13ms/step - accuracy: 0.6441 - loss: 1.4942\n",
      "Epoch 26/100\n",
      "\u001b[1m375/375\u001b[0m \u001b[32m━━━━━━━━━━━━━━━━━━━━\u001b[0m\u001b[37m\u001b[0m \u001b[1m5s\u001b[0m 14ms/step - accuracy: 0.6370 - loss: 1.5334\n",
      "Epoch 27/100\n",
      "\u001b[1m375/375\u001b[0m \u001b[32m━━━━━━━━━━━━━━━━━━━━\u001b[0m\u001b[37m\u001b[0m \u001b[1m5s\u001b[0m 14ms/step - accuracy: 0.6427 - loss: 1.5195\n",
      "Epoch 28/100\n",
      "\u001b[1m375/375\u001b[0m \u001b[32m━━━━━━━━━━━━━━━━━━━━\u001b[0m\u001b[37m\u001b[0m \u001b[1m6s\u001b[0m 15ms/step - accuracy: 0.6792 - loss: 1.3337\n",
      "Epoch 29/100\n",
      "\u001b[1m375/375\u001b[0m \u001b[32m━━━━━━━━━━━━━━━━━━━━\u001b[0m\u001b[37m\u001b[0m \u001b[1m5s\u001b[0m 14ms/step - accuracy: 0.6969 - loss: 1.2703\n",
      "Epoch 30/100\n",
      "\u001b[1m375/375\u001b[0m \u001b[32m━━━━━━━━━━━━━━━━━━━━\u001b[0m\u001b[37m\u001b[0m \u001b[1m5s\u001b[0m 13ms/step - accuracy: 0.7027 - loss: 1.2805\n",
      "Epoch 31/100\n",
      "\u001b[1m375/375\u001b[0m \u001b[32m━━━━━━━━━━━━━━━━━━━━\u001b[0m\u001b[37m\u001b[0m \u001b[1m6s\u001b[0m 16ms/step - accuracy: 0.7083 - loss: 1.2620\n",
      "Epoch 32/100\n",
      "\u001b[1m375/375\u001b[0m \u001b[32m━━━━━━━━━━━━━━━━━━━━\u001b[0m\u001b[37m\u001b[0m \u001b[1m5s\u001b[0m 14ms/step - accuracy: 0.7009 - loss: 1.2508\n",
      "Epoch 33/100\n",
      "\u001b[1m375/375\u001b[0m \u001b[32m━━━━━━━━━━━━━━━━━━━━\u001b[0m\u001b[37m\u001b[0m \u001b[1m5s\u001b[0m 13ms/step - accuracy: 0.7023 - loss: 1.2787\n",
      "Epoch 34/100\n",
      "\u001b[1m375/375\u001b[0m \u001b[32m━━━━━━━━━━━━━━━━━━━━\u001b[0m\u001b[37m\u001b[0m \u001b[1m5s\u001b[0m 15ms/step - accuracy: 0.6646 - loss: 1.4357\n",
      "Epoch 35/100\n",
      "\u001b[1m375/375\u001b[0m \u001b[32m━━━━━━━━━━━━━━━━━━━━\u001b[0m\u001b[37m\u001b[0m \u001b[1m6s\u001b[0m 16ms/step - accuracy: 0.6582 - loss: 1.4453\n",
      "Epoch 36/100\n",
      "\u001b[1m375/375\u001b[0m \u001b[32m━━━━━━━━━━━━━━━━━━━━\u001b[0m\u001b[37m\u001b[0m \u001b[1m5s\u001b[0m 13ms/step - accuracy: 0.6612 - loss: 1.4510\n",
      "Epoch 37/100\n",
      "\u001b[1m375/375\u001b[0m \u001b[32m━━━━━━━━━━━━━━━━━━━━\u001b[0m\u001b[37m\u001b[0m \u001b[1m6s\u001b[0m 16ms/step - accuracy: 0.6743 - loss: 1.4425\n",
      "Epoch 38/100\n",
      "\u001b[1m375/375\u001b[0m \u001b[32m━━━━━━━━━━━━━━━━━━━━\u001b[0m\u001b[37m\u001b[0m \u001b[1m6s\u001b[0m 16ms/step - accuracy: 0.6868 - loss: 1.3820\n",
      "Epoch 39/100\n",
      "\u001b[1m375/375\u001b[0m \u001b[32m━━━━━━━━━━━━━━━━━━━━\u001b[0m\u001b[37m\u001b[0m \u001b[1m6s\u001b[0m 15ms/step - accuracy: 0.6941 - loss: 1.3325\n",
      "Epoch 40/100\n",
      "\u001b[1m375/375\u001b[0m \u001b[32m━━━━━━━━━━━━━━━━━━━━\u001b[0m\u001b[37m\u001b[0m \u001b[1m6s\u001b[0m 16ms/step - accuracy: 0.6988 - loss: 1.2864\n",
      "Epoch 41/100\n",
      "\u001b[1m375/375\u001b[0m \u001b[32m━━━━━━━━━━━━━━━━━━━━\u001b[0m\u001b[37m\u001b[0m \u001b[1m5s\u001b[0m 14ms/step - accuracy: 0.7226 - loss: 1.1933\n",
      "Epoch 42/100\n",
      "\u001b[1m375/375\u001b[0m \u001b[32m━━━━━━━━━━━━━━━━━━━━\u001b[0m\u001b[37m\u001b[0m \u001b[1m6s\u001b[0m 15ms/step - accuracy: 0.7265 - loss: 1.1909\n",
      "Epoch 43/100\n",
      "\u001b[1m375/375\u001b[0m \u001b[32m━━━━━━━━━━━━━━━━━━━━\u001b[0m\u001b[37m\u001b[0m \u001b[1m6s\u001b[0m 16ms/step - accuracy: 0.7206 - loss: 1.2366\n",
      "Epoch 44/100\n",
      "\u001b[1m375/375\u001b[0m \u001b[32m━━━━━━━━━━━━━━━━━━━━\u001b[0m\u001b[37m\u001b[0m \u001b[1m5s\u001b[0m 14ms/step - accuracy: 0.7077 - loss: 1.2369\n",
      "Epoch 45/100\n",
      "\u001b[1m375/375\u001b[0m \u001b[32m━━━━━━━━━━━━━━━━━━━━\u001b[0m\u001b[37m\u001b[0m \u001b[1m6s\u001b[0m 15ms/step - accuracy: 0.7119 - loss: 1.2402\n",
      "Epoch 46/100\n",
      "\u001b[1m375/375\u001b[0m \u001b[32m━━━━━━━━━━━━━━━━━━━━\u001b[0m\u001b[37m\u001b[0m \u001b[1m5s\u001b[0m 14ms/step - accuracy: 0.7067 - loss: 1.2512\n",
      "Epoch 47/100\n",
      "\u001b[1m375/375\u001b[0m \u001b[32m━━━━━━━━━━━━━━━━━━━━\u001b[0m\u001b[37m\u001b[0m \u001b[1m5s\u001b[0m 13ms/step - accuracy: 0.7056 - loss: 1.2654\n",
      "Epoch 48/100\n",
      "\u001b[1m375/375\u001b[0m \u001b[32m━━━━━━━━━━━━━━━━━━━━\u001b[0m\u001b[37m\u001b[0m \u001b[1m5s\u001b[0m 13ms/step - accuracy: 0.7011 - loss: 1.2930\n",
      "Epoch 49/100\n",
      "\u001b[1m375/375\u001b[0m \u001b[32m━━━━━━━━━━━━━━━━━━━━\u001b[0m\u001b[37m\u001b[0m \u001b[1m5s\u001b[0m 13ms/step - accuracy: 0.7078 - loss: 1.2511\n",
      "Epoch 50/100\n",
      "\u001b[1m375/375\u001b[0m \u001b[32m━━━━━━━━━━━━━━━━━━━━\u001b[0m\u001b[37m\u001b[0m \u001b[1m4s\u001b[0m 12ms/step - accuracy: 0.7113 - loss: 1.2775\n",
      "Epoch 51/100\n",
      "\u001b[1m375/375\u001b[0m \u001b[32m━━━━━━━━━━━━━━━━━━━━\u001b[0m\u001b[37m\u001b[0m \u001b[1m5s\u001b[0m 13ms/step - accuracy: 0.7060 - loss: 1.2944\n",
      "Epoch 52/100\n",
      "\u001b[1m375/375\u001b[0m \u001b[32m━━━━━━━━━━━━━━━━━━━━\u001b[0m\u001b[37m\u001b[0m \u001b[1m6s\u001b[0m 15ms/step - accuracy: 0.7134 - loss: 1.2460\n",
      "Epoch 53/100\n",
      "\u001b[1m375/375\u001b[0m \u001b[32m━━━━━━━━━━━━━━━━━━━━\u001b[0m\u001b[37m\u001b[0m \u001b[1m5s\u001b[0m 14ms/step - accuracy: 0.7301 - loss: 1.1650\n",
      "Epoch 54/100\n",
      "\u001b[1m375/375\u001b[0m \u001b[32m━━━━━━━━━━━━━━━━━━━━\u001b[0m\u001b[37m\u001b[0m \u001b[1m5s\u001b[0m 14ms/step - accuracy: 0.7244 - loss: 1.2174\n",
      "Epoch 55/100\n",
      "\u001b[1m375/375\u001b[0m \u001b[32m━━━━━━━━━━━━━━━━━━━━\u001b[0m\u001b[37m\u001b[0m \u001b[1m6s\u001b[0m 15ms/step - accuracy: 0.7226 - loss: 1.2049\n",
      "Epoch 56/100\n",
      "\u001b[1m375/375\u001b[0m \u001b[32m━━━━━━━━━━━━━━━━━━━━\u001b[0m\u001b[37m\u001b[0m \u001b[1m5s\u001b[0m 13ms/step - accuracy: 0.7177 - loss: 1.2388\n",
      "Epoch 57/100\n",
      "\u001b[1m375/375\u001b[0m \u001b[32m━━━━━━━━━━━━━━━━━━━━\u001b[0m\u001b[37m\u001b[0m \u001b[1m5s\u001b[0m 14ms/step - accuracy: 0.7118 - loss: 1.2178\n",
      "Epoch 58/100\n",
      "\u001b[1m375/375\u001b[0m \u001b[32m━━━━━━━━━━━━━━━━━━━━\u001b[0m\u001b[37m\u001b[0m \u001b[1m6s\u001b[0m 15ms/step - accuracy: 0.7128 - loss: 1.2274\n",
      "Epoch 59/100\n",
      "\u001b[1m375/375\u001b[0m \u001b[32m━━━━━━━━━━━━━━━━━━━━\u001b[0m\u001b[37m\u001b[0m \u001b[1m5s\u001b[0m 15ms/step - accuracy: 0.7280 - loss: 1.1905\n",
      "Epoch 60/100\n",
      "\u001b[1m375/375\u001b[0m \u001b[32m━━━━━━━━━━━━━━━━━━━━\u001b[0m\u001b[37m\u001b[0m \u001b[1m6s\u001b[0m 15ms/step - accuracy: 0.7209 - loss: 1.2046\n",
      "Epoch 61/100\n",
      "\u001b[1m375/375\u001b[0m \u001b[32m━━━━━━━━━━━━━━━━━━━━\u001b[0m\u001b[37m\u001b[0m \u001b[1m5s\u001b[0m 13ms/step - accuracy: 0.7167 - loss: 1.2424\n",
      "Epoch 62/100\n",
      "\u001b[1m375/375\u001b[0m \u001b[32m━━━━━━━━━━━━━━━━━━━━\u001b[0m\u001b[37m\u001b[0m \u001b[1m4s\u001b[0m 11ms/step - accuracy: 0.7191 - loss: 1.1963\n",
      "Epoch 63/100\n",
      "\u001b[1m375/375\u001b[0m \u001b[32m━━━━━━━━━━━━━━━━━━━━\u001b[0m\u001b[37m\u001b[0m \u001b[1m5s\u001b[0m 12ms/step - accuracy: 0.6616 - loss: 1.6459\n",
      "Epoch 64/100\n",
      "\u001b[1m375/375\u001b[0m \u001b[32m━━━━━━━━━━━━━━━━━━━━\u001b[0m\u001b[37m\u001b[0m \u001b[1m5s\u001b[0m 13ms/step - accuracy: 0.6686 - loss: 1.5338\n",
      "Epoch 65/100\n",
      "\u001b[1m375/375\u001b[0m \u001b[32m━━━━━━━━━━━━━━━━━━━━\u001b[0m\u001b[37m\u001b[0m \u001b[1m5s\u001b[0m 15ms/step - accuracy: 0.6901 - loss: 1.3752\n",
      "Epoch 66/100\n",
      "\u001b[1m375/375\u001b[0m \u001b[32m━━━━━━━━━━━━━━━━━━━━\u001b[0m\u001b[37m\u001b[0m \u001b[1m5s\u001b[0m 14ms/step - accuracy: 0.7141 - loss: 1.2774\n",
      "Epoch 67/100\n",
      "\u001b[1m375/375\u001b[0m \u001b[32m━━━━━━━━━━━━━━━━━━━━\u001b[0m\u001b[37m\u001b[0m \u001b[1m5s\u001b[0m 14ms/step - accuracy: 0.7369 - loss: 1.1648\n",
      "Epoch 68/100\n",
      "\u001b[1m375/375\u001b[0m \u001b[32m━━━━━━━━━━━━━━━━━━━━\u001b[0m\u001b[37m\u001b[0m \u001b[1m5s\u001b[0m 12ms/step - accuracy: 0.7469 - loss: 1.1414\n",
      "Epoch 69/100\n",
      "\u001b[1m375/375\u001b[0m \u001b[32m━━━━━━━━━━━━━━━━━━━━\u001b[0m\u001b[37m\u001b[0m \u001b[1m5s\u001b[0m 13ms/step - accuracy: 0.7526 - loss: 1.1216\n",
      "Epoch 70/100\n",
      "\u001b[1m375/375\u001b[0m \u001b[32m━━━━━━━━━━━━━━━━━━━━\u001b[0m\u001b[37m\u001b[0m \u001b[1m5s\u001b[0m 14ms/step - accuracy: 0.7547 - loss: 1.0978\n",
      "Epoch 71/100\n",
      "\u001b[1m375/375\u001b[0m \u001b[32m━━━━━━━━━━━━━━━━━━━━\u001b[0m\u001b[37m\u001b[0m \u001b[1m5s\u001b[0m 14ms/step - accuracy: 0.7577 - loss: 1.0757\n",
      "Epoch 72/100\n",
      "\u001b[1m375/375\u001b[0m \u001b[32m━━━━━━━━━━━━━━━━━━━━\u001b[0m\u001b[37m\u001b[0m \u001b[1m5s\u001b[0m 14ms/step - accuracy: 0.7289 - loss: 1.2029\n",
      "Epoch 73/100\n",
      "\u001b[1m375/375\u001b[0m \u001b[32m━━━━━━━━━━━━━━━━━━━━\u001b[0m\u001b[37m\u001b[0m \u001b[1m5s\u001b[0m 14ms/step - accuracy: 0.7054 - loss: 1.3093\n",
      "Epoch 74/100\n",
      "\u001b[1m375/375\u001b[0m \u001b[32m━━━━━━━━━━━━━━━━━━━━\u001b[0m\u001b[37m\u001b[0m \u001b[1m5s\u001b[0m 13ms/step - accuracy: 0.7000 - loss: 1.2859\n",
      "Epoch 75/100\n",
      "\u001b[1m375/375\u001b[0m \u001b[32m━━━━━━━━━━━━━━━━━━━━\u001b[0m\u001b[37m\u001b[0m \u001b[1m4s\u001b[0m 11ms/step - accuracy: 0.7183 - loss: 1.2197\n",
      "Epoch 76/100\n",
      "\u001b[1m375/375\u001b[0m \u001b[32m━━━━━━━━━━━━━━━━━━━━\u001b[0m\u001b[37m\u001b[0m \u001b[1m5s\u001b[0m 13ms/step - accuracy: 0.7168 - loss: 1.2196\n",
      "Epoch 77/100\n",
      "\u001b[1m375/375\u001b[0m \u001b[32m━━━━━━━━━━━━━━━━━━━━\u001b[0m\u001b[37m\u001b[0m \u001b[1m5s\u001b[0m 14ms/step - accuracy: 0.7353 - loss: 1.1644\n",
      "Epoch 78/100\n",
      "\u001b[1m375/375\u001b[0m \u001b[32m━━━━━━━━━━━━━━━━━━━━\u001b[0m\u001b[37m\u001b[0m \u001b[1m6s\u001b[0m 15ms/step - accuracy: 0.7241 - loss: 1.2067\n",
      "Epoch 79/100\n",
      "\u001b[1m375/375\u001b[0m \u001b[32m━━━━━━━━━━━━━━━━━━━━\u001b[0m\u001b[37m\u001b[0m \u001b[1m6s\u001b[0m 15ms/step - accuracy: 0.7364 - loss: 1.1262\n",
      "Epoch 80/100\n",
      "\u001b[1m375/375\u001b[0m \u001b[32m━━━━━━━━━━━━━━━━━━━━\u001b[0m\u001b[37m\u001b[0m \u001b[1m6s\u001b[0m 15ms/step - accuracy: 0.7436 - loss: 1.1488\n",
      "Epoch 81/100\n",
      "\u001b[1m375/375\u001b[0m \u001b[32m━━━━━━━━━━━━━━━━━━━━\u001b[0m\u001b[37m\u001b[0m \u001b[1m5s\u001b[0m 14ms/step - accuracy: 0.7379 - loss: 1.1547\n",
      "Epoch 82/100\n",
      "\u001b[1m375/375\u001b[0m \u001b[32m━━━━━━━━━━━━━━━━━━━━\u001b[0m\u001b[37m\u001b[0m \u001b[1m5s\u001b[0m 14ms/step - accuracy: 0.7250 - loss: 1.2155\n",
      "Epoch 83/100\n",
      "\u001b[1m375/375\u001b[0m \u001b[32m━━━━━━━━━━━━━━━━━━━━\u001b[0m\u001b[37m\u001b[0m \u001b[1m6s\u001b[0m 15ms/step - accuracy: 0.7343 - loss: 1.1884\n",
      "Epoch 84/100\n",
      "\u001b[1m375/375\u001b[0m \u001b[32m━━━━━━━━━━━━━━━━━━━━\u001b[0m\u001b[37m\u001b[0m \u001b[1m6s\u001b[0m 16ms/step - accuracy: 0.7302 - loss: 1.2011\n",
      "Epoch 85/100\n",
      "\u001b[1m375/375\u001b[0m \u001b[32m━━━━━━━━━━━━━━━━━━━━\u001b[0m\u001b[37m\u001b[0m \u001b[1m5s\u001b[0m 14ms/step - accuracy: 0.7141 - loss: 1.2952\n",
      "Epoch 86/100\n",
      "\u001b[1m375/375\u001b[0m \u001b[32m━━━━━━━━━━━━━━━━━━━━\u001b[0m\u001b[37m\u001b[0m \u001b[1m5s\u001b[0m 14ms/step - accuracy: 0.7069 - loss: 1.3277\n",
      "Epoch 87/100\n",
      "\u001b[1m375/375\u001b[0m \u001b[32m━━━━━━━━━━━━━━━━━━━━\u001b[0m\u001b[37m\u001b[0m \u001b[1m5s\u001b[0m 13ms/step - accuracy: 0.7100 - loss: 1.2986\n",
      "Epoch 88/100\n",
      "\u001b[1m375/375\u001b[0m \u001b[32m━━━━━━━━━━━━━━━━━━━━\u001b[0m\u001b[37m\u001b[0m \u001b[1m6s\u001b[0m 15ms/step - accuracy: 0.7076 - loss: 1.2724\n",
      "Epoch 89/100\n",
      "\u001b[1m375/375\u001b[0m \u001b[32m━━━━━━━━━━━━━━━━━━━━\u001b[0m\u001b[37m\u001b[0m \u001b[1m6s\u001b[0m 16ms/step - accuracy: 0.7357 - loss: 1.1753\n",
      "Epoch 90/100\n",
      "\u001b[1m375/375\u001b[0m \u001b[32m━━━━━━━━━━━━━━━━━━━━\u001b[0m\u001b[37m\u001b[0m \u001b[1m6s\u001b[0m 16ms/step - accuracy: 0.7462 - loss: 1.1431\n",
      "Epoch 91/100\n",
      "\u001b[1m375/375\u001b[0m \u001b[32m━━━━━━━━━━━━━━━━━━━━\u001b[0m\u001b[37m\u001b[0m \u001b[1m6s\u001b[0m 15ms/step - accuracy: 0.7635 - loss: 1.0644\n",
      "Epoch 92/100\n",
      "\u001b[1m375/375\u001b[0m \u001b[32m━━━━━━━━━━━━━━━━━━━━\u001b[0m\u001b[37m\u001b[0m \u001b[1m5s\u001b[0m 13ms/step - accuracy: 0.7554 - loss: 1.0953\n",
      "Epoch 93/100\n",
      "\u001b[1m375/375\u001b[0m \u001b[32m━━━━━━━━━━━━━━━━━━━━\u001b[0m\u001b[37m\u001b[0m \u001b[1m5s\u001b[0m 14ms/step - accuracy: 0.7519 - loss: 1.0728\n",
      "Epoch 94/100\n",
      "\u001b[1m375/375\u001b[0m \u001b[32m━━━━━━━━━━━━━━━━━━━━\u001b[0m\u001b[37m\u001b[0m \u001b[1m5s\u001b[0m 15ms/step - accuracy: 0.7455 - loss: 1.1382\n",
      "Epoch 95/100\n",
      "\u001b[1m375/375\u001b[0m \u001b[32m━━━━━━━━━━━━━━━━━━━━\u001b[0m\u001b[37m\u001b[0m \u001b[1m5s\u001b[0m 14ms/step - accuracy: 0.7300 - loss: 1.2016\n",
      "Epoch 96/100\n",
      "\u001b[1m375/375\u001b[0m \u001b[32m━━━━━━━━━━━━━━━━━━━━\u001b[0m\u001b[37m\u001b[0m \u001b[1m6s\u001b[0m 15ms/step - accuracy: 0.7112 - loss: 1.2825\n",
      "Epoch 97/100\n",
      "\u001b[1m375/375\u001b[0m \u001b[32m━━━━━━━━━━━━━━━━━━━━\u001b[0m\u001b[37m\u001b[0m \u001b[1m5s\u001b[0m 13ms/step - accuracy: 0.7222 - loss: 1.2548\n",
      "Epoch 98/100\n",
      "\u001b[1m375/375\u001b[0m \u001b[32m━━━━━━━━━━━━━━━━━━━━\u001b[0m\u001b[37m\u001b[0m \u001b[1m4s\u001b[0m 12ms/step - accuracy: 0.7246 - loss: 1.2295\n",
      "Epoch 99/100\n",
      "\u001b[1m375/375\u001b[0m \u001b[32m━━━━━━━━━━━━━━━━━━━━\u001b[0m\u001b[37m\u001b[0m \u001b[1m5s\u001b[0m 13ms/step - accuracy: 0.7315 - loss: 1.1639\n",
      "Epoch 100/100\n",
      "\u001b[1m375/375\u001b[0m \u001b[32m━━━━━━━━━━━━━━━━━━━━\u001b[0m\u001b[37m\u001b[0m \u001b[1m4s\u001b[0m 12ms/step - accuracy: 0.7476 - loss: 1.1320\n"
     ]
    }
   ],
   "source": [
    "epochs = 100\n",
    "\n",
    "# Train the model\n",
    "history = model.fit(dataset, epochs=epochs)"
   ]
  },
  {
   "cell_type": "markdown",
   "metadata": {
    "id": "WgAzLnLATFts"
   },
   "source": [
    "You can visualize the accuracy below to see how it fluctuates as the training progresses."
   ]
  },
  {
   "cell_type": "code",
   "execution_count": 19,
   "metadata": {
    "id": "3YXGelKThoTT"
   },
   "outputs": [
    {
     "data": {
      "image/png": "[encoded data removed]",
      "text/plain": [
       "<Figure size 640x480 with 1 Axes>"
      ]
     },
     "metadata": {},
     "output_type": "display_data"
    }
   ],
   "source": [
    "# Plot utility\n",
    "def plot_graphs(history, string):\n",
    "  plt.plot(history.history[string])\n",
    "  plt.xlabel(\"Epochs\")\n",
    "  plt.ylabel(string)\n",
    "  plt.show()\n",
    "\n",
    "# Visualize the accuracy\n",
    "plot_graphs(history, 'accuracy')"
   ]
  },
  {
   "cell_type": "markdown",
   "metadata": {
    "id": "9gxKIcvGTUnw"
   },
   "source": [
    "## Generating Text\n",
    "\n",
    "Now you can let the model make its own songs or poetry! Because it is trained on a much larger corpus, the results below should contain less repetitions as before. The code below picks the next word based on the highest probability output."
   ]
  },
  {
   "cell_type": "code",
   "execution_count": 15,
   "metadata": {
    "id": "6Vc6PHgxa6Hm"
   },
   "outputs": [
    {
     "name": "stdout",
     "output_type": "stream",
     "text": [
      "help me obi-wan kenobi youre my only hope and your barley nor wheat for more and gone gone gone dying and hear gone by gone away gone there thorn for erin put upon lanigans ball upon gilgarra mountain bound upon da bridge or bottles by mountain rigadoo alone wid you back into me journey times love and shut write for now gone away him entangled colonel farrell on gilgarra mountain away on earth i love here oh gone and gone away and gone gone away away from under the table velvet pretty side i power away your hat and gone away and gone gone gone alas of color\n"
     ]
    }
   ],
   "source": [
    "# Define seed text\n",
    "seed_text = \"help me obi-wan kenobi youre my only hope\"\n",
    "\n",
    "# Define total words to predict\n",
    "next_words = 100\n",
    "\n",
    "# Loop until desired length is reached\n",
    "for _ in range(next_words):\n",
    "\n",
    "\t# Generate the integer sequence of the current line\n",
    "\tsequence = vectorize_layer(seed_text)\n",
    "\n",
    "\t# Pad the sequence\n",
    "\tsequence = tf.keras.utils.pad_sequences([sequence], maxlen=max_sequence_len-1, padding='pre')\n",
    "\n",
    "\t# Feed to the model and get the probabilities for each index\n",
    "\tprobabilities = model.predict(sequence, verbose=0)\n",
    "\n",
    "\t# Get the index with the highest probability\n",
    "\tpredicted = np.argmax(probabilities, axis=-1)[0]\n",
    "\n",
    "\t# Ignore if index is 0 because that is just the padding.\n",
    "\tif predicted != 0:\n",
    "\n",
    "\t\t# Look up the word associated with the index.\n",
    "\t\toutput_word = vocabulary[predicted]\n",
    "\n",
    "\t\t# Combine with the seed text\n",
    "\t\tseed_text += \" \" + output_word\n",
    "\n",
    "# Print the result\n",
    "print(seed_text)"
   ]
  },
  {
   "cell_type": "markdown",
   "metadata": {
    "id": "wHtrtAFAT6tn"
   },
   "source": [
    "Here again is the code that gets the top 3 predictions and picks one at random."
   ]
  },
  {
   "cell_type": "code",
   "execution_count": 16,
   "metadata": {
    "id": "yJfzKm-8mVKD"
   },
   "outputs": [
    {
     "name": "stdout",
     "output_type": "stream",
     "text": [
      "help me obi-wan kenobi youre my only hope the time as to dream of derry upon now gone gone away from tell and gone gone and gone away and die on drinking colonel farrell on kilgary mountain dead or sleeping him up me would me to keep an old friends and relations with right eyes and gone and fair lie your gone and outside with pride love be dead and true died she comes over transparently over the deepest ocean terrance side by daylight this proud over night all town and shut gone gone there bound light under the upwards ra i started away oer the girls rising\n"
     ]
    }
   ],
   "source": [
    "# Define seed text\n",
    "seed_text = \"help me obi-wan kenobi youre my only hope\"\n",
    "\n",
    "# Define total words to predict\n",
    "next_words = 100\n",
    "\n",
    "# Loop until desired length is reached\n",
    "for _ in range(next_words):\n",
    "\n",
    "\t# Convert the seed text to an integer sequence\n",
    "  sequence = vectorize_layer(seed_text)\n",
    "\n",
    "\t# Pad the sequence\n",
    "  sequence = tf.keras.utils.pad_sequences([sequence], maxlen=max_sequence_len-1, padding='pre')\n",
    "\n",
    "\t# Feed to the model and get the probabilities for each index\n",
    "  probabilities = model.predict(sequence, verbose=0)\n",
    "\n",
    "  # Pick a random number from [1,2,3]\n",
    "  choice = np.random.choice([1,2,3])\n",
    "\n",
    "  # Sort the probabilities in ascending order\n",
    "  # and get the random choice from the end of the array\n",
    "  predicted = np.argsort(probabilities)[0][-choice]\n",
    "\n",
    "\t# Ignore if index is 0 because that is just the padding.\n",
    "  if predicted != 0:\n",
    "\n",
    "    # Look up the word associated with the index.\n",
    "    output_word = vocabulary[predicted]\n",
    "\n",
    "    # Combine with the seed text\n",
    "    seed_text += \" \" + output_word\n",
    "\n",
    "# Print the result\n",
    "print(seed_text)"
   ]
  },
  {
   "cell_type": "markdown",
   "metadata": {
    "id": "DP0--sdMUJ_k"
   },
   "source": [
    "## Wrap Up\n",
    "\n",
    "This lab shows the effect of having a larger dataset to train your text generation model. As expected, this will take a longer time to prepare and train but the output will less likely become repetitive or gibberish. Try to tweak the hyperparameters and see if you get better results. You can also find some other text datasets and use it to train the model here.  "
   ]
  }
 ],
 "metadata": {
  "accelerator": "GPU",
  "colab": {
   "private_outputs": true,
   "provenance": []
  },
  "kernelspec": {
   "display_name": "tensorflow-specialization",
   "language": "python",
   "name": "python3"
  },
  "language_info": {
   "codemirror_mode": {
    "name": "ipython",
    "version": 3
   },
   "file_extension": ".py",
   "mimetype": "text/x-python",
   "name": "python",
   "nbconvert_exporter": "python",
   "pygments_lexer": "ipython3",
   "version": "3.10.12"
  }
 },
 "nbformat": 4,
 "nbformat_minor": 4
}
